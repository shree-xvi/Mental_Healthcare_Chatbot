{
  "cells": [
    {
      "cell_type": "code",
      "execution_count": 1,
      "id": "4739e8db-c936-473c-b2be-3cd3022edbdb",
      "metadata": {
        "tags": [],
        "id": "4739e8db-c936-473c-b2be-3cd3022edbdb"
      },
      "outputs": [],
      "source": [
        "import tensorflow as tf\n",
        "import pandas as pd\n",
        "import numpy as np"
      ]
    },
    {
      "cell_type": "code",
      "source": [
        "from google.colab import drive\n",
        "drive.mount('/content/drive')"
      ],
      "metadata": {
        "colab": {
          "base_uri": "https://localhost:8080/"
        },
        "id": "-YrztqP_6eoI",
        "outputId": "307ee50a-baf2-4ffc-ee1c-d4d2de6edb8a"
      },
      "id": "-YrztqP_6eoI",
      "execution_count": 2,
      "outputs": [
        {
          "output_type": "stream",
          "name": "stdout",
          "text": [
            "Mounted at /content/drive\n"
          ]
        }
      ]
    },
    {
      "cell_type": "code",
      "execution_count": null,
      "id": "7e88a2e9-2094-4fa0-a9a8-ec43a3f23ec0",
      "metadata": {
        "tags": [],
        "id": "7e88a2e9-2094-4fa0-a9a8-ec43a3f23ec0",
        "outputId": "b93dc509-cbcf-4209-cb34-ec0f1ca1d139"
      },
      "outputs": [
        {
          "name": "stdout",
          "output_type": "stream",
          "text": [
            "1 Physical GPUs, 1 Logical GPUs\n"
          ]
        }
      ],
      "source": [
        "gpus = tf.config.experimental.list_physical_devices('GPU')\n",
        "if gpus:\n",
        "    try:\n",
        "        for gpu in gpus:\n",
        "            tf.config.experimental.set_memory_growth(gpu, True)\n",
        "            logical_gpus = tf.config.experimental.list_logical_devices('GPU')\n",
        "            print(len(gpus), \"Physical GPUs,\", len(logical_gpus), \"Logical GPUs\")\n",
        "\n",
        "\n",
        "    except RuntimeError as e:\n",
        "        print(e)\n",
        "\n",
        "\n",
        "\n"
      ]
    },
    {
      "cell_type": "code",
      "execution_count": null,
      "id": "615366f3-f3fc-468e-837b-ee11029d0088",
      "metadata": {
        "tags": [],
        "id": "615366f3-f3fc-468e-837b-ee11029d0088",
        "outputId": "68661cd5-b4ea-48d3-ff30-036c95645d9d"
      },
      "outputs": [
        {
          "name": "stdout",
          "output_type": "stream",
          "text": [
            "GPU 0: NVIDIA GeForce 940MX (UUID: GPU-ffb5177f-d8ce-71bb-2ac1-8bdd43322698)\n"
          ]
        }
      ],
      "source": [
        "!nvidia-smi -L"
      ]
    },
    {
      "cell_type": "markdown",
      "id": "840c4dcb-3e75-4c1e-bf9c-4bcf7d79af9f",
      "metadata": {
        "id": "840c4dcb-3e75-4c1e-bf9c-4bcf7d79af9f"
      },
      "source": [
        "# DATA PREPROCESSING"
      ]
    },
    {
      "cell_type": "code",
      "source": [
        "url_train = \"/content/drive/MyDrive/suicide_data/train.csv\"\n",
        "url_test  = \"/content/drive/MyDrive/suicide_data/test.csv\"\n",
        "url_val   = \"/content/drive/MyDrive/suicide_data/val.csv\""
      ],
      "metadata": {
        "id": "Y_jAzol3Q5VH"
      },
      "id": "Y_jAzol3Q5VH",
      "execution_count": 3,
      "outputs": []
    },
    {
      "cell_type": "code",
      "execution_count": 4,
      "id": "1d16ad21-c5cd-4328-ab06-caa18f904968",
      "metadata": {
        "tags": [],
        "id": "1d16ad21-c5cd-4328-ab06-caa18f904968"
      },
      "outputs": [],
      "source": [
        "df_train = pd.read_csv(url_train)"
      ]
    },
    {
      "cell_type": "code",
      "execution_count": 5,
      "id": "191f9946-6705-40c0-b9f2-481dd8bb9db1",
      "metadata": {
        "tags": [],
        "id": "191f9946-6705-40c0-b9f2-481dd8bb9db1",
        "outputId": "2d7bf627-ae0d-448c-9094-d90e9c9acdf2",
        "colab": {
          "base_uri": "https://localhost:8080/",
          "height": 424
        }
      },
      "outputs": [
        {
          "output_type": "execute_result",
          "data": {
            "text/plain": [
              "        Unnamed: 0                                               text  \\\n",
              "0           343589  Need Help Dealing With Sertraline WithdrawalI ...   \n",
              "1           182223  Maybe.Maybe if I bleedout ever liter of blood,...   \n",
              "2            73111  I have become so lonely I'd be happy if someon...   \n",
              "3           165519  I don't wanna be 18 How am I gonna scare creep...   \n",
              "4           267706  I seriously want to die because im ugly and aw...   \n",
              "...            ...                                                ...   \n",
              "222794       82624  I think I just can't do itI have nothing. I sp...   \n",
              "222795      117120  to all homophobes🙄‼️ what are u even mad at🤣🤣🤣...   \n",
              "222796       66951  seattle suicide tomorrowHey guys. I was stayin...   \n",
              "222797      125585  I have nothing to live forI really don't. I'm ...   \n",
              "222798      320367  I (M18) didn’t plan to live past high schoolI ...   \n",
              "\n",
              "              class  \n",
              "0           suicide  \n",
              "1        depression  \n",
              "2        depression  \n",
              "3       non-suicide  \n",
              "4           suicide  \n",
              "...             ...  \n",
              "222794      suicide  \n",
              "222795  non-suicide  \n",
              "222796      suicide  \n",
              "222797      suicide  \n",
              "222798      suicide  \n",
              "\n",
              "[222799 rows x 3 columns]"
            ],
            "text/html": [
              "\n",
              "\n",
              "  <div id=\"df-5348996b-e620-48af-9328-e012d2be751a\">\n",
              "    <div class=\"colab-df-container\">\n",
              "      <div>\n",
              "<style scoped>\n",
              "    .dataframe tbody tr th:only-of-type {\n",
              "        vertical-align: middle;\n",
              "    }\n",
              "\n",
              "    .dataframe tbody tr th {\n",
              "        vertical-align: top;\n",
              "    }\n",
              "\n",
              "    .dataframe thead th {\n",
              "        text-align: right;\n",
              "    }\n",
              "</style>\n",
              "<table border=\"1\" class=\"dataframe\">\n",
              "  <thead>\n",
              "    <tr style=\"text-align: right;\">\n",
              "      <th></th>\n",
              "      <th>Unnamed: 0</th>\n",
              "      <th>text</th>\n",
              "      <th>class</th>\n",
              "    </tr>\n",
              "  </thead>\n",
              "  <tbody>\n",
              "    <tr>\n",
              "      <th>0</th>\n",
              "      <td>343589</td>\n",
              "      <td>Need Help Dealing With Sertraline WithdrawalI ...</td>\n",
              "      <td>suicide</td>\n",
              "    </tr>\n",
              "    <tr>\n",
              "      <th>1</th>\n",
              "      <td>182223</td>\n",
              "      <td>Maybe.Maybe if I bleedout ever liter of blood,...</td>\n",
              "      <td>depression</td>\n",
              "    </tr>\n",
              "    <tr>\n",
              "      <th>2</th>\n",
              "      <td>73111</td>\n",
              "      <td>I have become so lonely I'd be happy if someon...</td>\n",
              "      <td>depression</td>\n",
              "    </tr>\n",
              "    <tr>\n",
              "      <th>3</th>\n",
              "      <td>165519</td>\n",
              "      <td>I don't wanna be 18 How am I gonna scare creep...</td>\n",
              "      <td>non-suicide</td>\n",
              "    </tr>\n",
              "    <tr>\n",
              "      <th>4</th>\n",
              "      <td>267706</td>\n",
              "      <td>I seriously want to die because im ugly and aw...</td>\n",
              "      <td>suicide</td>\n",
              "    </tr>\n",
              "    <tr>\n",
              "      <th>...</th>\n",
              "      <td>...</td>\n",
              "      <td>...</td>\n",
              "      <td>...</td>\n",
              "    </tr>\n",
              "    <tr>\n",
              "      <th>222794</th>\n",
              "      <td>82624</td>\n",
              "      <td>I think I just can't do itI have nothing. I sp...</td>\n",
              "      <td>suicide</td>\n",
              "    </tr>\n",
              "    <tr>\n",
              "      <th>222795</th>\n",
              "      <td>117120</td>\n",
              "      <td>to all homophobes🙄‼️ what are u even mad at🤣🤣🤣...</td>\n",
              "      <td>non-suicide</td>\n",
              "    </tr>\n",
              "    <tr>\n",
              "      <th>222796</th>\n",
              "      <td>66951</td>\n",
              "      <td>seattle suicide tomorrowHey guys. I was stayin...</td>\n",
              "      <td>suicide</td>\n",
              "    </tr>\n",
              "    <tr>\n",
              "      <th>222797</th>\n",
              "      <td>125585</td>\n",
              "      <td>I have nothing to live forI really don't. I'm ...</td>\n",
              "      <td>suicide</td>\n",
              "    </tr>\n",
              "    <tr>\n",
              "      <th>222798</th>\n",
              "      <td>320367</td>\n",
              "      <td>I (M18) didn’t plan to live past high schoolI ...</td>\n",
              "      <td>suicide</td>\n",
              "    </tr>\n",
              "  </tbody>\n",
              "</table>\n",
              "<p>222799 rows × 3 columns</p>\n",
              "</div>\n",
              "      <button class=\"colab-df-convert\" onclick=\"convertToInteractive('df-5348996b-e620-48af-9328-e012d2be751a')\"\n",
              "              title=\"Convert this dataframe to an interactive table.\"\n",
              "              style=\"display:none;\">\n",
              "\n",
              "  <svg xmlns=\"http://www.w3.org/2000/svg\" height=\"24px\"viewBox=\"0 0 24 24\"\n",
              "       width=\"24px\">\n",
              "    <path d=\"M0 0h24v24H0V0z\" fill=\"none\"/>\n",
              "    <path d=\"M18.56 5.44l.94 2.06.94-2.06 2.06-.94-2.06-.94-.94-2.06-.94 2.06-2.06.94zm-11 1L8.5 8.5l.94-2.06 2.06-.94-2.06-.94L8.5 2.5l-.94 2.06-2.06.94zm10 10l.94 2.06.94-2.06 2.06-.94-2.06-.94-.94-2.06-.94 2.06-2.06.94z\"/><path d=\"M17.41 7.96l-1.37-1.37c-.4-.4-.92-.59-1.43-.59-.52 0-1.04.2-1.43.59L10.3 9.45l-7.72 7.72c-.78.78-.78 2.05 0 2.83L4 21.41c.39.39.9.59 1.41.59.51 0 1.02-.2 1.41-.59l7.78-7.78 2.81-2.81c.8-.78.8-2.07 0-2.86zM5.41 20L4 18.59l7.72-7.72 1.47 1.35L5.41 20z\"/>\n",
              "  </svg>\n",
              "      </button>\n",
              "\n",
              "\n",
              "\n",
              "    <div id=\"df-dbaa7ffa-d0cd-4f46-aea3-e4f191eac2e2\">\n",
              "      <button class=\"colab-df-quickchart\" onclick=\"quickchart('df-dbaa7ffa-d0cd-4f46-aea3-e4f191eac2e2')\"\n",
              "              title=\"Suggest charts.\"\n",
              "              style=\"display:none;\">\n",
              "\n",
              "<svg xmlns=\"http://www.w3.org/2000/svg\" height=\"24px\"viewBox=\"0 0 24 24\"\n",
              "     width=\"24px\">\n",
              "    <g>\n",
              "        <path d=\"M19 3H5c-1.1 0-2 .9-2 2v14c0 1.1.9 2 2 2h14c1.1 0 2-.9 2-2V5c0-1.1-.9-2-2-2zM9 17H7v-7h2v7zm4 0h-2V7h2v10zm4 0h-2v-4h2v4z\"/>\n",
              "    </g>\n",
              "</svg>\n",
              "      </button>\n",
              "    </div>\n",
              "\n",
              "<style>\n",
              "  .colab-df-quickchart {\n",
              "    background-color: #E8F0FE;\n",
              "    border: none;\n",
              "    border-radius: 50%;\n",
              "    cursor: pointer;\n",
              "    display: none;\n",
              "    fill: #1967D2;\n",
              "    height: 32px;\n",
              "    padding: 0 0 0 0;\n",
              "    width: 32px;\n",
              "  }\n",
              "\n",
              "  .colab-df-quickchart:hover {\n",
              "    background-color: #E2EBFA;\n",
              "    box-shadow: 0px 1px 2px rgba(60, 64, 67, 0.3), 0px 1px 3px 1px rgba(60, 64, 67, 0.15);\n",
              "    fill: #174EA6;\n",
              "  }\n",
              "\n",
              "  [theme=dark] .colab-df-quickchart {\n",
              "    background-color: #3B4455;\n",
              "    fill: #D2E3FC;\n",
              "  }\n",
              "\n",
              "  [theme=dark] .colab-df-quickchart:hover {\n",
              "    background-color: #434B5C;\n",
              "    box-shadow: 0px 1px 3px 1px rgba(0, 0, 0, 0.15);\n",
              "    filter: drop-shadow(0px 1px 2px rgba(0, 0, 0, 0.3));\n",
              "    fill: #FFFFFF;\n",
              "  }\n",
              "</style>\n",
              "\n",
              "    <script>\n",
              "      async function quickchart(key) {\n",
              "        const containerElement = document.querySelector('#' + key);\n",
              "        const charts = await google.colab.kernel.invokeFunction(\n",
              "            'suggestCharts', [key], {});\n",
              "      }\n",
              "    </script>\n",
              "\n",
              "      <script>\n",
              "\n",
              "function displayQuickchartButton(domScope) {\n",
              "  let quickchartButtonEl =\n",
              "    domScope.querySelector('#df-dbaa7ffa-d0cd-4f46-aea3-e4f191eac2e2 button.colab-df-quickchart');\n",
              "  quickchartButtonEl.style.display =\n",
              "    google.colab.kernel.accessAllowed ? 'block' : 'none';\n",
              "}\n",
              "\n",
              "        displayQuickchartButton(document);\n",
              "      </script>\n",
              "      <style>\n",
              "    .colab-df-container {\n",
              "      display:flex;\n",
              "      flex-wrap:wrap;\n",
              "      gap: 12px;\n",
              "    }\n",
              "\n",
              "    .colab-df-convert {\n",
              "      background-color: #E8F0FE;\n",
              "      border: none;\n",
              "      border-radius: 50%;\n",
              "      cursor: pointer;\n",
              "      display: none;\n",
              "      fill: #1967D2;\n",
              "      height: 32px;\n",
              "      padding: 0 0 0 0;\n",
              "      width: 32px;\n",
              "    }\n",
              "\n",
              "    .colab-df-convert:hover {\n",
              "      background-color: #E2EBFA;\n",
              "      box-shadow: 0px 1px 2px rgba(60, 64, 67, 0.3), 0px 1px 3px 1px rgba(60, 64, 67, 0.15);\n",
              "      fill: #174EA6;\n",
              "    }\n",
              "\n",
              "    [theme=dark] .colab-df-convert {\n",
              "      background-color: #3B4455;\n",
              "      fill: #D2E3FC;\n",
              "    }\n",
              "\n",
              "    [theme=dark] .colab-df-convert:hover {\n",
              "      background-color: #434B5C;\n",
              "      box-shadow: 0px 1px 3px 1px rgba(0, 0, 0, 0.15);\n",
              "      filter: drop-shadow(0px 1px 2px rgba(0, 0, 0, 0.3));\n",
              "      fill: #FFFFFF;\n",
              "    }\n",
              "  </style>\n",
              "\n",
              "      <script>\n",
              "        const buttonEl =\n",
              "          document.querySelector('#df-5348996b-e620-48af-9328-e012d2be751a button.colab-df-convert');\n",
              "        buttonEl.style.display =\n",
              "          google.colab.kernel.accessAllowed ? 'block' : 'none';\n",
              "\n",
              "        async function convertToInteractive(key) {\n",
              "          const element = document.querySelector('#df-5348996b-e620-48af-9328-e012d2be751a');\n",
              "          const dataTable =\n",
              "            await google.colab.kernel.invokeFunction('convertToInteractive',\n",
              "                                                     [key], {});\n",
              "          if (!dataTable) return;\n",
              "\n",
              "          const docLinkHtml = 'Like what you see? Visit the ' +\n",
              "            '<a target=\"_blank\" href=https://colab.research.google.com/notebooks/data_table.ipynb>data table notebook</a>'\n",
              "            + ' to learn more about interactive tables.';\n",
              "          element.innerHTML = '';\n",
              "          dataTable['output_type'] = 'display_data';\n",
              "          await google.colab.output.renderOutput(dataTable, element);\n",
              "          const docLink = document.createElement('div');\n",
              "          docLink.innerHTML = docLinkHtml;\n",
              "          element.appendChild(docLink);\n",
              "        }\n",
              "      </script>\n",
              "    </div>\n",
              "  </div>\n"
            ]
          },
          "metadata": {},
          "execution_count": 5
        }
      ],
      "source": [
        "df_train"
      ]
    },
    {
      "cell_type": "code",
      "execution_count": 6,
      "id": "846741b8-3972-45ff-bcd3-245b21457ea2",
      "metadata": {
        "tags": [],
        "id": "846741b8-3972-45ff-bcd3-245b21457ea2",
        "outputId": "8b4b1c7b-5f82-42aa-cc58-40ce2c8425dd",
        "colab": {
          "base_uri": "https://localhost:8080/",
          "height": 424
        }
      },
      "outputs": [
        {
          "output_type": "execute_result",
          "data": {
            "text/plain": [
              "       Unnamed: 0                                               text  \\\n",
              "0           50414  I cut my thumb and now have a fabric plaster o...   \n",
              "1          344706  Kinda hot in my roomBut some body warmth would...   \n",
              "2           49641  Something my ex said that I can't shake.Earlie...   \n",
              "3           53647  15 and suicidalI've been thinking about this f...   \n",
              "4          193976  Hopeless and lostFeeling incredibly hopeless a...   \n",
              "...           ...                                                ...   \n",
              "69620      192645  just want this to endi’m so so so so so tired ...   \n",
              "69621      318180  depressed and aloneMy life has been nothing bu...   \n",
              "69622      104141  Hello SWI'll just dive right in to this.\\n\\nI'...   \n",
              "69623       42286  I was having one of my better days, until I sa...   \n",
              "69624      169274  Relationship Can't Cure Depression but it can ...   \n",
              "\n",
              "             class  \n",
              "0      non-suicide  \n",
              "1       depression  \n",
              "2       depression  \n",
              "3          suicide  \n",
              "4       depression  \n",
              "...            ...  \n",
              "69620      suicide  \n",
              "69621   depression  \n",
              "69622      suicide  \n",
              "69623   depression  \n",
              "69624   depression  \n",
              "\n",
              "[69625 rows x 3 columns]"
            ],
            "text/html": [
              "\n",
              "\n",
              "  <div id=\"df-f5ec6e5a-1433-4127-8766-b0b46bfdee1d\">\n",
              "    <div class=\"colab-df-container\">\n",
              "      <div>\n",
              "<style scoped>\n",
              "    .dataframe tbody tr th:only-of-type {\n",
              "        vertical-align: middle;\n",
              "    }\n",
              "\n",
              "    .dataframe tbody tr th {\n",
              "        vertical-align: top;\n",
              "    }\n",
              "\n",
              "    .dataframe thead th {\n",
              "        text-align: right;\n",
              "    }\n",
              "</style>\n",
              "<table border=\"1\" class=\"dataframe\">\n",
              "  <thead>\n",
              "    <tr style=\"text-align: right;\">\n",
              "      <th></th>\n",
              "      <th>Unnamed: 0</th>\n",
              "      <th>text</th>\n",
              "      <th>class</th>\n",
              "    </tr>\n",
              "  </thead>\n",
              "  <tbody>\n",
              "    <tr>\n",
              "      <th>0</th>\n",
              "      <td>50414</td>\n",
              "      <td>I cut my thumb and now have a fabric plaster o...</td>\n",
              "      <td>non-suicide</td>\n",
              "    </tr>\n",
              "    <tr>\n",
              "      <th>1</th>\n",
              "      <td>344706</td>\n",
              "      <td>Kinda hot in my roomBut some body warmth would...</td>\n",
              "      <td>depression</td>\n",
              "    </tr>\n",
              "    <tr>\n",
              "      <th>2</th>\n",
              "      <td>49641</td>\n",
              "      <td>Something my ex said that I can't shake.Earlie...</td>\n",
              "      <td>depression</td>\n",
              "    </tr>\n",
              "    <tr>\n",
              "      <th>3</th>\n",
              "      <td>53647</td>\n",
              "      <td>15 and suicidalI've been thinking about this f...</td>\n",
              "      <td>suicide</td>\n",
              "    </tr>\n",
              "    <tr>\n",
              "      <th>4</th>\n",
              "      <td>193976</td>\n",
              "      <td>Hopeless and lostFeeling incredibly hopeless a...</td>\n",
              "      <td>depression</td>\n",
              "    </tr>\n",
              "    <tr>\n",
              "      <th>...</th>\n",
              "      <td>...</td>\n",
              "      <td>...</td>\n",
              "      <td>...</td>\n",
              "    </tr>\n",
              "    <tr>\n",
              "      <th>69620</th>\n",
              "      <td>192645</td>\n",
              "      <td>just want this to endi’m so so so so so tired ...</td>\n",
              "      <td>suicide</td>\n",
              "    </tr>\n",
              "    <tr>\n",
              "      <th>69621</th>\n",
              "      <td>318180</td>\n",
              "      <td>depressed and aloneMy life has been nothing bu...</td>\n",
              "      <td>depression</td>\n",
              "    </tr>\n",
              "    <tr>\n",
              "      <th>69622</th>\n",
              "      <td>104141</td>\n",
              "      <td>Hello SWI'll just dive right in to this.\\n\\nI'...</td>\n",
              "      <td>suicide</td>\n",
              "    </tr>\n",
              "    <tr>\n",
              "      <th>69623</th>\n",
              "      <td>42286</td>\n",
              "      <td>I was having one of my better days, until I sa...</td>\n",
              "      <td>depression</td>\n",
              "    </tr>\n",
              "    <tr>\n",
              "      <th>69624</th>\n",
              "      <td>169274</td>\n",
              "      <td>Relationship Can't Cure Depression but it can ...</td>\n",
              "      <td>depression</td>\n",
              "    </tr>\n",
              "  </tbody>\n",
              "</table>\n",
              "<p>69625 rows × 3 columns</p>\n",
              "</div>\n",
              "      <button class=\"colab-df-convert\" onclick=\"convertToInteractive('df-f5ec6e5a-1433-4127-8766-b0b46bfdee1d')\"\n",
              "              title=\"Convert this dataframe to an interactive table.\"\n",
              "              style=\"display:none;\">\n",
              "\n",
              "  <svg xmlns=\"http://www.w3.org/2000/svg\" height=\"24px\"viewBox=\"0 0 24 24\"\n",
              "       width=\"24px\">\n",
              "    <path d=\"M0 0h24v24H0V0z\" fill=\"none\"/>\n",
              "    <path d=\"M18.56 5.44l.94 2.06.94-2.06 2.06-.94-2.06-.94-.94-2.06-.94 2.06-2.06.94zm-11 1L8.5 8.5l.94-2.06 2.06-.94-2.06-.94L8.5 2.5l-.94 2.06-2.06.94zm10 10l.94 2.06.94-2.06 2.06-.94-2.06-.94-.94-2.06-.94 2.06-2.06.94z\"/><path d=\"M17.41 7.96l-1.37-1.37c-.4-.4-.92-.59-1.43-.59-.52 0-1.04.2-1.43.59L10.3 9.45l-7.72 7.72c-.78.78-.78 2.05 0 2.83L4 21.41c.39.39.9.59 1.41.59.51 0 1.02-.2 1.41-.59l7.78-7.78 2.81-2.81c.8-.78.8-2.07 0-2.86zM5.41 20L4 18.59l7.72-7.72 1.47 1.35L5.41 20z\"/>\n",
              "  </svg>\n",
              "      </button>\n",
              "\n",
              "\n",
              "\n",
              "    <div id=\"df-a84b26e1-5aa9-499c-9fcc-8f510202d9f8\">\n",
              "      <button class=\"colab-df-quickchart\" onclick=\"quickchart('df-a84b26e1-5aa9-499c-9fcc-8f510202d9f8')\"\n",
              "              title=\"Suggest charts.\"\n",
              "              style=\"display:none;\">\n",
              "\n",
              "<svg xmlns=\"http://www.w3.org/2000/svg\" height=\"24px\"viewBox=\"0 0 24 24\"\n",
              "     width=\"24px\">\n",
              "    <g>\n",
              "        <path d=\"M19 3H5c-1.1 0-2 .9-2 2v14c0 1.1.9 2 2 2h14c1.1 0 2-.9 2-2V5c0-1.1-.9-2-2-2zM9 17H7v-7h2v7zm4 0h-2V7h2v10zm4 0h-2v-4h2v4z\"/>\n",
              "    </g>\n",
              "</svg>\n",
              "      </button>\n",
              "    </div>\n",
              "\n",
              "<style>\n",
              "  .colab-df-quickchart {\n",
              "    background-color: #E8F0FE;\n",
              "    border: none;\n",
              "    border-radius: 50%;\n",
              "    cursor: pointer;\n",
              "    display: none;\n",
              "    fill: #1967D2;\n",
              "    height: 32px;\n",
              "    padding: 0 0 0 0;\n",
              "    width: 32px;\n",
              "  }\n",
              "\n",
              "  .colab-df-quickchart:hover {\n",
              "    background-color: #E2EBFA;\n",
              "    box-shadow: 0px 1px 2px rgba(60, 64, 67, 0.3), 0px 1px 3px 1px rgba(60, 64, 67, 0.15);\n",
              "    fill: #174EA6;\n",
              "  }\n",
              "\n",
              "  [theme=dark] .colab-df-quickchart {\n",
              "    background-color: #3B4455;\n",
              "    fill: #D2E3FC;\n",
              "  }\n",
              "\n",
              "  [theme=dark] .colab-df-quickchart:hover {\n",
              "    background-color: #434B5C;\n",
              "    box-shadow: 0px 1px 3px 1px rgba(0, 0, 0, 0.15);\n",
              "    filter: drop-shadow(0px 1px 2px rgba(0, 0, 0, 0.3));\n",
              "    fill: #FFFFFF;\n",
              "  }\n",
              "</style>\n",
              "\n",
              "    <script>\n",
              "      async function quickchart(key) {\n",
              "        const containerElement = document.querySelector('#' + key);\n",
              "        const charts = await google.colab.kernel.invokeFunction(\n",
              "            'suggestCharts', [key], {});\n",
              "      }\n",
              "    </script>\n",
              "\n",
              "      <script>\n",
              "\n",
              "function displayQuickchartButton(domScope) {\n",
              "  let quickchartButtonEl =\n",
              "    domScope.querySelector('#df-a84b26e1-5aa9-499c-9fcc-8f510202d9f8 button.colab-df-quickchart');\n",
              "  quickchartButtonEl.style.display =\n",
              "    google.colab.kernel.accessAllowed ? 'block' : 'none';\n",
              "}\n",
              "\n",
              "        displayQuickchartButton(document);\n",
              "      </script>\n",
              "      <style>\n",
              "    .colab-df-container {\n",
              "      display:flex;\n",
              "      flex-wrap:wrap;\n",
              "      gap: 12px;\n",
              "    }\n",
              "\n",
              "    .colab-df-convert {\n",
              "      background-color: #E8F0FE;\n",
              "      border: none;\n",
              "      border-radius: 50%;\n",
              "      cursor: pointer;\n",
              "      display: none;\n",
              "      fill: #1967D2;\n",
              "      height: 32px;\n",
              "      padding: 0 0 0 0;\n",
              "      width: 32px;\n",
              "    }\n",
              "\n",
              "    .colab-df-convert:hover {\n",
              "      background-color: #E2EBFA;\n",
              "      box-shadow: 0px 1px 2px rgba(60, 64, 67, 0.3), 0px 1px 3px 1px rgba(60, 64, 67, 0.15);\n",
              "      fill: #174EA6;\n",
              "    }\n",
              "\n",
              "    [theme=dark] .colab-df-convert {\n",
              "      background-color: #3B4455;\n",
              "      fill: #D2E3FC;\n",
              "    }\n",
              "\n",
              "    [theme=dark] .colab-df-convert:hover {\n",
              "      background-color: #434B5C;\n",
              "      box-shadow: 0px 1px 3px 1px rgba(0, 0, 0, 0.15);\n",
              "      filter: drop-shadow(0px 1px 2px rgba(0, 0, 0, 0.3));\n",
              "      fill: #FFFFFF;\n",
              "    }\n",
              "  </style>\n",
              "\n",
              "      <script>\n",
              "        const buttonEl =\n",
              "          document.querySelector('#df-f5ec6e5a-1433-4127-8766-b0b46bfdee1d button.colab-df-convert');\n",
              "        buttonEl.style.display =\n",
              "          google.colab.kernel.accessAllowed ? 'block' : 'none';\n",
              "\n",
              "        async function convertToInteractive(key) {\n",
              "          const element = document.querySelector('#df-f5ec6e5a-1433-4127-8766-b0b46bfdee1d');\n",
              "          const dataTable =\n",
              "            await google.colab.kernel.invokeFunction('convertToInteractive',\n",
              "                                                     [key], {});\n",
              "          if (!dataTable) return;\n",
              "\n",
              "          const docLinkHtml = 'Like what you see? Visit the ' +\n",
              "            '<a target=\"_blank\" href=https://colab.research.google.com/notebooks/data_table.ipynb>data table notebook</a>'\n",
              "            + ' to learn more about interactive tables.';\n",
              "          element.innerHTML = '';\n",
              "          dataTable['output_type'] = 'display_data';\n",
              "          await google.colab.output.renderOutput(dataTable, element);\n",
              "          const docLink = document.createElement('div');\n",
              "          docLink.innerHTML = docLinkHtml;\n",
              "          element.appendChild(docLink);\n",
              "        }\n",
              "      </script>\n",
              "    </div>\n",
              "  </div>\n"
            ]
          },
          "metadata": {},
          "execution_count": 6
        }
      ],
      "source": [
        "df_test = pd.read_csv(url_test)\n",
        "df_test"
      ]
    },
    {
      "cell_type": "code",
      "execution_count": 7,
      "id": "b6384ee1-974a-4636-9ff3-6b0b9013d0fb",
      "metadata": {
        "tags": [],
        "id": "b6384ee1-974a-4636-9ff3-6b0b9013d0fb",
        "outputId": "98af6f68-5a52-469b-cf5b-c6b3a13b3541",
        "colab": {
          "base_uri": "https://localhost:8080/",
          "height": 424
        }
      },
      "outputs": [
        {
          "output_type": "execute_result",
          "data": {
            "text/plain": [
              "       Unnamed: 0                                               text  \\\n",
              "0           32399  I’ve been feeling down Is it ok to feel this w...   \n",
              "1          256078  Feminism is a bad name It should be called equ...   \n",
              "2          113421  Feeling uselessEvery time my life starts impro...   \n",
              "3          102597  What's the point?When doing anything this is t...   \n",
              "4           58266  So it begins. Stay strong out there, and good ...   \n",
              "...           ...                                                ...   \n",
              "55695       75858  Please please please please please please plea...   \n",
              "55696      126122  Tell the person above me that they are very co...   \n",
              "55697       43485  Medication and therapy don't help.Meditating d...   \n",
              "55698      138463  I’m aloneI went to my school dance last night ...   \n",
              "55699      182167  I wrote this poem while in a deep depression. ...   \n",
              "\n",
              "             class  \n",
              "0      non-suicide  \n",
              "1      non-suicide  \n",
              "2          suicide  \n",
              "3       depression  \n",
              "4      non-suicide  \n",
              "...            ...  \n",
              "55695      suicide  \n",
              "55696  non-suicide  \n",
              "55697   depression  \n",
              "55698      suicide  \n",
              "55699   depression  \n",
              "\n",
              "[55700 rows x 3 columns]"
            ],
            "text/html": [
              "\n",
              "\n",
              "  <div id=\"df-380f3637-27df-44ac-b80c-9de66211b3b9\">\n",
              "    <div class=\"colab-df-container\">\n",
              "      <div>\n",
              "<style scoped>\n",
              "    .dataframe tbody tr th:only-of-type {\n",
              "        vertical-align: middle;\n",
              "    }\n",
              "\n",
              "    .dataframe tbody tr th {\n",
              "        vertical-align: top;\n",
              "    }\n",
              "\n",
              "    .dataframe thead th {\n",
              "        text-align: right;\n",
              "    }\n",
              "</style>\n",
              "<table border=\"1\" class=\"dataframe\">\n",
              "  <thead>\n",
              "    <tr style=\"text-align: right;\">\n",
              "      <th></th>\n",
              "      <th>Unnamed: 0</th>\n",
              "      <th>text</th>\n",
              "      <th>class</th>\n",
              "    </tr>\n",
              "  </thead>\n",
              "  <tbody>\n",
              "    <tr>\n",
              "      <th>0</th>\n",
              "      <td>32399</td>\n",
              "      <td>I’ve been feeling down Is it ok to feel this w...</td>\n",
              "      <td>non-suicide</td>\n",
              "    </tr>\n",
              "    <tr>\n",
              "      <th>1</th>\n",
              "      <td>256078</td>\n",
              "      <td>Feminism is a bad name It should be called equ...</td>\n",
              "      <td>non-suicide</td>\n",
              "    </tr>\n",
              "    <tr>\n",
              "      <th>2</th>\n",
              "      <td>113421</td>\n",
              "      <td>Feeling uselessEvery time my life starts impro...</td>\n",
              "      <td>suicide</td>\n",
              "    </tr>\n",
              "    <tr>\n",
              "      <th>3</th>\n",
              "      <td>102597</td>\n",
              "      <td>What's the point?When doing anything this is t...</td>\n",
              "      <td>depression</td>\n",
              "    </tr>\n",
              "    <tr>\n",
              "      <th>4</th>\n",
              "      <td>58266</td>\n",
              "      <td>So it begins. Stay strong out there, and good ...</td>\n",
              "      <td>non-suicide</td>\n",
              "    </tr>\n",
              "    <tr>\n",
              "      <th>...</th>\n",
              "      <td>...</td>\n",
              "      <td>...</td>\n",
              "      <td>...</td>\n",
              "    </tr>\n",
              "    <tr>\n",
              "      <th>55695</th>\n",
              "      <td>75858</td>\n",
              "      <td>Please please please please please please plea...</td>\n",
              "      <td>suicide</td>\n",
              "    </tr>\n",
              "    <tr>\n",
              "      <th>55696</th>\n",
              "      <td>126122</td>\n",
              "      <td>Tell the person above me that they are very co...</td>\n",
              "      <td>non-suicide</td>\n",
              "    </tr>\n",
              "    <tr>\n",
              "      <th>55697</th>\n",
              "      <td>43485</td>\n",
              "      <td>Medication and therapy don't help.Meditating d...</td>\n",
              "      <td>depression</td>\n",
              "    </tr>\n",
              "    <tr>\n",
              "      <th>55698</th>\n",
              "      <td>138463</td>\n",
              "      <td>I’m aloneI went to my school dance last night ...</td>\n",
              "      <td>suicide</td>\n",
              "    </tr>\n",
              "    <tr>\n",
              "      <th>55699</th>\n",
              "      <td>182167</td>\n",
              "      <td>I wrote this poem while in a deep depression. ...</td>\n",
              "      <td>depression</td>\n",
              "    </tr>\n",
              "  </tbody>\n",
              "</table>\n",
              "<p>55700 rows × 3 columns</p>\n",
              "</div>\n",
              "      <button class=\"colab-df-convert\" onclick=\"convertToInteractive('df-380f3637-27df-44ac-b80c-9de66211b3b9')\"\n",
              "              title=\"Convert this dataframe to an interactive table.\"\n",
              "              style=\"display:none;\">\n",
              "\n",
              "  <svg xmlns=\"http://www.w3.org/2000/svg\" height=\"24px\"viewBox=\"0 0 24 24\"\n",
              "       width=\"24px\">\n",
              "    <path d=\"M0 0h24v24H0V0z\" fill=\"none\"/>\n",
              "    <path d=\"M18.56 5.44l.94 2.06.94-2.06 2.06-.94-2.06-.94-.94-2.06-.94 2.06-2.06.94zm-11 1L8.5 8.5l.94-2.06 2.06-.94-2.06-.94L8.5 2.5l-.94 2.06-2.06.94zm10 10l.94 2.06.94-2.06 2.06-.94-2.06-.94-.94-2.06-.94 2.06-2.06.94z\"/><path d=\"M17.41 7.96l-1.37-1.37c-.4-.4-.92-.59-1.43-.59-.52 0-1.04.2-1.43.59L10.3 9.45l-7.72 7.72c-.78.78-.78 2.05 0 2.83L4 21.41c.39.39.9.59 1.41.59.51 0 1.02-.2 1.41-.59l7.78-7.78 2.81-2.81c.8-.78.8-2.07 0-2.86zM5.41 20L4 18.59l7.72-7.72 1.47 1.35L5.41 20z\"/>\n",
              "  </svg>\n",
              "      </button>\n",
              "\n",
              "\n",
              "\n",
              "    <div id=\"df-a4fef398-33b4-4b4d-9468-918bbb721e89\">\n",
              "      <button class=\"colab-df-quickchart\" onclick=\"quickchart('df-a4fef398-33b4-4b4d-9468-918bbb721e89')\"\n",
              "              title=\"Suggest charts.\"\n",
              "              style=\"display:none;\">\n",
              "\n",
              "<svg xmlns=\"http://www.w3.org/2000/svg\" height=\"24px\"viewBox=\"0 0 24 24\"\n",
              "     width=\"24px\">\n",
              "    <g>\n",
              "        <path d=\"M19 3H5c-1.1 0-2 .9-2 2v14c0 1.1.9 2 2 2h14c1.1 0 2-.9 2-2V5c0-1.1-.9-2-2-2zM9 17H7v-7h2v7zm4 0h-2V7h2v10zm4 0h-2v-4h2v4z\"/>\n",
              "    </g>\n",
              "</svg>\n",
              "      </button>\n",
              "    </div>\n",
              "\n",
              "<style>\n",
              "  .colab-df-quickchart {\n",
              "    background-color: #E8F0FE;\n",
              "    border: none;\n",
              "    border-radius: 50%;\n",
              "    cursor: pointer;\n",
              "    display: none;\n",
              "    fill: #1967D2;\n",
              "    height: 32px;\n",
              "    padding: 0 0 0 0;\n",
              "    width: 32px;\n",
              "  }\n",
              "\n",
              "  .colab-df-quickchart:hover {\n",
              "    background-color: #E2EBFA;\n",
              "    box-shadow: 0px 1px 2px rgba(60, 64, 67, 0.3), 0px 1px 3px 1px rgba(60, 64, 67, 0.15);\n",
              "    fill: #174EA6;\n",
              "  }\n",
              "\n",
              "  [theme=dark] .colab-df-quickchart {\n",
              "    background-color: #3B4455;\n",
              "    fill: #D2E3FC;\n",
              "  }\n",
              "\n",
              "  [theme=dark] .colab-df-quickchart:hover {\n",
              "    background-color: #434B5C;\n",
              "    box-shadow: 0px 1px 3px 1px rgba(0, 0, 0, 0.15);\n",
              "    filter: drop-shadow(0px 1px 2px rgba(0, 0, 0, 0.3));\n",
              "    fill: #FFFFFF;\n",
              "  }\n",
              "</style>\n",
              "\n",
              "    <script>\n",
              "      async function quickchart(key) {\n",
              "        const containerElement = document.querySelector('#' + key);\n",
              "        const charts = await google.colab.kernel.invokeFunction(\n",
              "            'suggestCharts', [key], {});\n",
              "      }\n",
              "    </script>\n",
              "\n",
              "      <script>\n",
              "\n",
              "function displayQuickchartButton(domScope) {\n",
              "  let quickchartButtonEl =\n",
              "    domScope.querySelector('#df-a4fef398-33b4-4b4d-9468-918bbb721e89 button.colab-df-quickchart');\n",
              "  quickchartButtonEl.style.display =\n",
              "    google.colab.kernel.accessAllowed ? 'block' : 'none';\n",
              "}\n",
              "\n",
              "        displayQuickchartButton(document);\n",
              "      </script>\n",
              "      <style>\n",
              "    .colab-df-container {\n",
              "      display:flex;\n",
              "      flex-wrap:wrap;\n",
              "      gap: 12px;\n",
              "    }\n",
              "\n",
              "    .colab-df-convert {\n",
              "      background-color: #E8F0FE;\n",
              "      border: none;\n",
              "      border-radius: 50%;\n",
              "      cursor: pointer;\n",
              "      display: none;\n",
              "      fill: #1967D2;\n",
              "      height: 32px;\n",
              "      padding: 0 0 0 0;\n",
              "      width: 32px;\n",
              "    }\n",
              "\n",
              "    .colab-df-convert:hover {\n",
              "      background-color: #E2EBFA;\n",
              "      box-shadow: 0px 1px 2px rgba(60, 64, 67, 0.3), 0px 1px 3px 1px rgba(60, 64, 67, 0.15);\n",
              "      fill: #174EA6;\n",
              "    }\n",
              "\n",
              "    [theme=dark] .colab-df-convert {\n",
              "      background-color: #3B4455;\n",
              "      fill: #D2E3FC;\n",
              "    }\n",
              "\n",
              "    [theme=dark] .colab-df-convert:hover {\n",
              "      background-color: #434B5C;\n",
              "      box-shadow: 0px 1px 3px 1px rgba(0, 0, 0, 0.15);\n",
              "      filter: drop-shadow(0px 1px 2px rgba(0, 0, 0, 0.3));\n",
              "      fill: #FFFFFF;\n",
              "    }\n",
              "  </style>\n",
              "\n",
              "      <script>\n",
              "        const buttonEl =\n",
              "          document.querySelector('#df-380f3637-27df-44ac-b80c-9de66211b3b9 button.colab-df-convert');\n",
              "        buttonEl.style.display =\n",
              "          google.colab.kernel.accessAllowed ? 'block' : 'none';\n",
              "\n",
              "        async function convertToInteractive(key) {\n",
              "          const element = document.querySelector('#df-380f3637-27df-44ac-b80c-9de66211b3b9');\n",
              "          const dataTable =\n",
              "            await google.colab.kernel.invokeFunction('convertToInteractive',\n",
              "                                                     [key], {});\n",
              "          if (!dataTable) return;\n",
              "\n",
              "          const docLinkHtml = 'Like what you see? Visit the ' +\n",
              "            '<a target=\"_blank\" href=https://colab.research.google.com/notebooks/data_table.ipynb>data table notebook</a>'\n",
              "            + ' to learn more about interactive tables.';\n",
              "          element.innerHTML = '';\n",
              "          dataTable['output_type'] = 'display_data';\n",
              "          await google.colab.output.renderOutput(dataTable, element);\n",
              "          const docLink = document.createElement('div');\n",
              "          docLink.innerHTML = docLinkHtml;\n",
              "          element.appendChild(docLink);\n",
              "        }\n",
              "      </script>\n",
              "    </div>\n",
              "  </div>\n"
            ]
          },
          "metadata": {},
          "execution_count": 7
        }
      ],
      "source": [
        "df_val = pd.read_csv(url_val)\n",
        "df_val"
      ]
    },
    {
      "cell_type": "code",
      "execution_count": 8,
      "id": "ec62992b-3b7d-434f-b8d2-361943d8349d",
      "metadata": {
        "tags": [],
        "id": "ec62992b-3b7d-434f-b8d2-361943d8349d"
      },
      "outputs": [],
      "source": [
        "df_train = df_train.drop(['Unnamed: 0'] , axis=1)\n",
        "df_test = df_test.drop(['Unnamed: 0'], axis=1)\n",
        "df_val = df_val.drop(['Unnamed: 0'], axis=1)"
      ]
    },
    {
      "cell_type": "code",
      "execution_count": 9,
      "id": "5cc8326a-341a-495e-b0c8-d4227affb05d",
      "metadata": {
        "tags": [],
        "id": "5cc8326a-341a-495e-b0c8-d4227affb05d"
      },
      "outputs": [],
      "source": [
        "df_train.rename(columns = {'class':'sentiment'}, inplace = True)\n",
        "df_test.rename(columns = {'class':'sentiment'}, inplace = True)\n",
        "df_val.rename(columns = {'class':'sentiment'}, inplace = True)"
      ]
    },
    {
      "cell_type": "markdown",
      "id": "ae01752d-3cab-4e15-afe8-a85924c3181c",
      "metadata": {
        "id": "ae01752d-3cab-4e15-afe8-a85924c3181c"
      },
      "source": [
        "## Assesment of the data"
      ]
    },
    {
      "cell_type": "markdown",
      "id": "afc8baef-1255-41cb-ad81-662441f4f7cd",
      "metadata": {
        "id": "afc8baef-1255-41cb-ad81-662441f4f7cd"
      },
      "source": [
        "### Training"
      ]
    },
    {
      "cell_type": "code",
      "execution_count": 10,
      "id": "204f80d3-52b3-4abf-9e64-f1c1ac7077b1",
      "metadata": {
        "tags": [],
        "id": "204f80d3-52b3-4abf-9e64-f1c1ac7077b1",
        "outputId": "2fe00d30-d66b-470a-f510-ceb5e9326d59",
        "colab": {
          "base_uri": "https://localhost:8080/"
        }
      },
      "outputs": [
        {
          "output_type": "execute_result",
          "data": {
            "text/plain": [
              "depression     74280\n",
              "suicide        74264\n",
              "non-suicide    74248\n",
              "Name: sentiment, dtype: int64"
            ]
          },
          "metadata": {},
          "execution_count": 10
        }
      ],
      "source": [
        "df_train.sentiment.value_counts()"
      ]
    },
    {
      "cell_type": "code",
      "execution_count": 11,
      "id": "b07236dc-772a-4b53-a5c3-b00850a17574",
      "metadata": {
        "tags": [],
        "id": "b07236dc-772a-4b53-a5c3-b00850a17574",
        "outputId": "8fe3415c-aaa4-4abd-d45e-b1054eb3542f",
        "colab": {
          "base_uri": "https://localhost:8080/"
        }
      },
      "outputs": [
        {
          "output_type": "execute_result",
          "data": {
            "text/plain": [
              "depression     33.339467\n",
              "suicide        33.332286\n",
              "non-suicide    33.325105\n",
              "Name: sentiment, dtype: float64"
            ]
          },
          "metadata": {},
          "execution_count": 11
        }
      ],
      "source": [
        "df_train.sentiment.value_counts() / df_train.shape[0] *100"
      ]
    },
    {
      "cell_type": "code",
      "execution_count": 12,
      "id": "49e4f710-87b9-495f-8899-a37d3c4ec7bc",
      "metadata": {
        "tags": [],
        "id": "49e4f710-87b9-495f-8899-a37d3c4ec7bc",
        "outputId": "0e0881ab-b415-4ae0-8a16-e79dc54ec2cd",
        "colab": {
          "base_uri": "https://localhost:8080/",
          "height": 311
        }
      },
      "outputs": [
        {
          "output_type": "display_data",
          "data": {
            "text/plain": [
              "<Figure size 600x300 with 1 Axes>"
            ],
            "image/png": "[encoded data removed]"
          },
          "metadata": {}
        }
      ],
      "source": [
        "from matplotlib import pyplot as plt\n",
        "import seaborn as sns\n",
        "plt.figure(figsize=(6,3))\n",
        "sns.countplot(x='sentiment', data=df_train);"
      ]
    },
    {
      "cell_type": "code",
      "execution_count": 13,
      "id": "fa197802-53ba-4ac6-83ac-eec2ae884768",
      "metadata": {
        "tags": [],
        "id": "fa197802-53ba-4ac6-83ac-eec2ae884768",
        "outputId": "42a2eee4-c703-46f6-93fd-3d1aea48fb6b",
        "colab": {
          "base_uri": "https://localhost:8080/"
        }
      },
      "outputs": [
        {
          "output_type": "execute_result",
          "data": {
            "text/plain": [
              "text         1\n",
              "sentiment    7\n",
              "dtype: int64"
            ]
          },
          "metadata": {},
          "execution_count": 13
        }
      ],
      "source": [
        "df_train.isnull().sum()"
      ]
    },
    {
      "cell_type": "code",
      "execution_count": 14,
      "id": "8dcb44a3-6162-42b6-8010-55703506aa66",
      "metadata": {
        "tags": [],
        "id": "8dcb44a3-6162-42b6-8010-55703506aa66"
      },
      "outputs": [],
      "source": [
        "df_train.fillna('non-suicide' , inplace=True)"
      ]
    },
    {
      "cell_type": "code",
      "execution_count": 15,
      "id": "3d9a9c54-be39-4832-bc32-50930446583c",
      "metadata": {
        "tags": [],
        "id": "3d9a9c54-be39-4832-bc32-50930446583c",
        "outputId": "553db8a2-786e-48da-dd5f-9209cb484c10",
        "colab": {
          "base_uri": "https://localhost:8080/"
        }
      },
      "outputs": [
        {
          "output_type": "execute_result",
          "data": {
            "text/plain": [
              "0"
            ]
          },
          "metadata": {},
          "execution_count": 15
        }
      ],
      "source": [
        "df_train.duplicated().sum()"
      ]
    },
    {
      "cell_type": "code",
      "execution_count": 16,
      "id": "5e5249e1-dc83-4ea2-8709-3b0d30618db6",
      "metadata": {
        "tags": [],
        "id": "5e5249e1-dc83-4ea2-8709-3b0d30618db6"
      },
      "outputs": [],
      "source": [
        "index = df_train[df_train.duplicated() == True].index\n",
        "df_train.drop(index, axis = 0, inplace = True)\n",
        "df_train.reset_index(inplace=True, drop = True)"
      ]
    },
    {
      "cell_type": "code",
      "execution_count": 17,
      "id": "745cf4a1-53be-47b7-ac82-2a492573d86d",
      "metadata": {
        "tags": [],
        "id": "745cf4a1-53be-47b7-ac82-2a492573d86d",
        "outputId": "27c80cd7-fbde-4a9c-d339-205e6b3a9db6",
        "colab": {
          "base_uri": "https://localhost:8080/",
          "height": 49
        }
      },
      "outputs": [
        {
          "output_type": "execute_result",
          "data": {
            "text/plain": [
              "Empty DataFrame\n",
              "Columns: [text, sentiment]\n",
              "Index: []"
            ],
            "text/html": [
              "\n",
              "\n",
              "  <div id=\"df-8e4836e4-a15c-4380-b11b-272c81fcbe9f\">\n",
              "    <div class=\"colab-df-container\">\n",
              "      <div>\n",
              "<style scoped>\n",
              "    .dataframe tbody tr th:only-of-type {\n",
              "        vertical-align: middle;\n",
              "    }\n",
              "\n",
              "    .dataframe tbody tr th {\n",
              "        vertical-align: top;\n",
              "    }\n",
              "\n",
              "    .dataframe thead th {\n",
              "        text-align: right;\n",
              "    }\n",
              "</style>\n",
              "<table border=\"1\" class=\"dataframe\">\n",
              "  <thead>\n",
              "    <tr style=\"text-align: right;\">\n",
              "      <th></th>\n",
              "      <th>text</th>\n",
              "      <th>sentiment</th>\n",
              "    </tr>\n",
              "  </thead>\n",
              "  <tbody>\n",
              "  </tbody>\n",
              "</table>\n",
              "</div>\n",
              "      <button class=\"colab-df-convert\" onclick=\"convertToInteractive('df-8e4836e4-a15c-4380-b11b-272c81fcbe9f')\"\n",
              "              title=\"Convert this dataframe to an interactive table.\"\n",
              "              style=\"display:none;\">\n",
              "\n",
              "  <svg xmlns=\"http://www.w3.org/2000/svg\" height=\"24px\"viewBox=\"0 0 24 24\"\n",
              "       width=\"24px\">\n",
              "    <path d=\"M0 0h24v24H0V0z\" fill=\"none\"/>\n",
              "    <path d=\"M18.56 5.44l.94 2.06.94-2.06 2.06-.94-2.06-.94-.94-2.06-.94 2.06-2.06.94zm-11 1L8.5 8.5l.94-2.06 2.06-.94-2.06-.94L8.5 2.5l-.94 2.06-2.06.94zm10 10l.94 2.06.94-2.06 2.06-.94-2.06-.94-.94-2.06-.94 2.06-2.06.94z\"/><path d=\"M17.41 7.96l-1.37-1.37c-.4-.4-.92-.59-1.43-.59-.52 0-1.04.2-1.43.59L10.3 9.45l-7.72 7.72c-.78.78-.78 2.05 0 2.83L4 21.41c.39.39.9.59 1.41.59.51 0 1.02-.2 1.41-.59l7.78-7.78 2.81-2.81c.8-.78.8-2.07 0-2.86zM5.41 20L4 18.59l7.72-7.72 1.47 1.35L5.41 20z\"/>\n",
              "  </svg>\n",
              "      </button>\n",
              "\n",
              "\n",
              "\n",
              "    <div id=\"df-a3816a4c-5421-470b-80a4-04df0dbd1c60\">\n",
              "      <button class=\"colab-df-quickchart\" onclick=\"quickchart('df-a3816a4c-5421-470b-80a4-04df0dbd1c60')\"\n",
              "              title=\"Suggest charts.\"\n",
              "              style=\"display:none;\">\n",
              "\n",
              "<svg xmlns=\"http://www.w3.org/2000/svg\" height=\"24px\"viewBox=\"0 0 24 24\"\n",
              "     width=\"24px\">\n",
              "    <g>\n",
              "        <path d=\"M19 3H5c-1.1 0-2 .9-2 2v14c0 1.1.9 2 2 2h14c1.1 0 2-.9 2-2V5c0-1.1-.9-2-2-2zM9 17H7v-7h2v7zm4 0h-2V7h2v10zm4 0h-2v-4h2v4z\"/>\n",
              "    </g>\n",
              "</svg>\n",
              "      </button>\n",
              "    </div>\n",
              "\n",
              "<style>\n",
              "  .colab-df-quickchart {\n",
              "    background-color: #E8F0FE;\n",
              "    border: none;\n",
              "    border-radius: 50%;\n",
              "    cursor: pointer;\n",
              "    display: none;\n",
              "    fill: #1967D2;\n",
              "    height: 32px;\n",
              "    padding: 0 0 0 0;\n",
              "    width: 32px;\n",
              "  }\n",
              "\n",
              "  .colab-df-quickchart:hover {\n",
              "    background-color: #E2EBFA;\n",
              "    box-shadow: 0px 1px 2px rgba(60, 64, 67, 0.3), 0px 1px 3px 1px rgba(60, 64, 67, 0.15);\n",
              "    fill: #174EA6;\n",
              "  }\n",
              "\n",
              "  [theme=dark] .colab-df-quickchart {\n",
              "    background-color: #3B4455;\n",
              "    fill: #D2E3FC;\n",
              "  }\n",
              "\n",
              "  [theme=dark] .colab-df-quickchart:hover {\n",
              "    background-color: #434B5C;\n",
              "    box-shadow: 0px 1px 3px 1px rgba(0, 0, 0, 0.15);\n",
              "    filter: drop-shadow(0px 1px 2px rgba(0, 0, 0, 0.3));\n",
              "    fill: #FFFFFF;\n",
              "  }\n",
              "</style>\n",
              "\n",
              "    <script>\n",
              "      async function quickchart(key) {\n",
              "        const containerElement = document.querySelector('#' + key);\n",
              "        const charts = await google.colab.kernel.invokeFunction(\n",
              "            'suggestCharts', [key], {});\n",
              "      }\n",
              "    </script>\n",
              "\n",
              "      <script>\n",
              "\n",
              "function displayQuickchartButton(domScope) {\n",
              "  let quickchartButtonEl =\n",
              "    domScope.querySelector('#df-a3816a4c-5421-470b-80a4-04df0dbd1c60 button.colab-df-quickchart');\n",
              "  quickchartButtonEl.style.display =\n",
              "    google.colab.kernel.accessAllowed ? 'block' : 'none';\n",
              "}\n",
              "\n",
              "        displayQuickchartButton(document);\n",
              "      </script>\n",
              "      <style>\n",
              "    .colab-df-container {\n",
              "      display:flex;\n",
              "      flex-wrap:wrap;\n",
              "      gap: 12px;\n",
              "    }\n",
              "\n",
              "    .colab-df-convert {\n",
              "      background-color: #E8F0FE;\n",
              "      border: none;\n",
              "      border-radius: 50%;\n",
              "      cursor: pointer;\n",
              "      display: none;\n",
              "      fill: #1967D2;\n",
              "      height: 32px;\n",
              "      padding: 0 0 0 0;\n",
              "      width: 32px;\n",
              "    }\n",
              "\n",
              "    .colab-df-convert:hover {\n",
              "      background-color: #E2EBFA;\n",
              "      box-shadow: 0px 1px 2px rgba(60, 64, 67, 0.3), 0px 1px 3px 1px rgba(60, 64, 67, 0.15);\n",
              "      fill: #174EA6;\n",
              "    }\n",
              "\n",
              "    [theme=dark] .colab-df-convert {\n",
              "      background-color: #3B4455;\n",
              "      fill: #D2E3FC;\n",
              "    }\n",
              "\n",
              "    [theme=dark] .colab-df-convert:hover {\n",
              "      background-color: #434B5C;\n",
              "      box-shadow: 0px 1px 3px 1px rgba(0, 0, 0, 0.15);\n",
              "      filter: drop-shadow(0px 1px 2px rgba(0, 0, 0, 0.3));\n",
              "      fill: #FFFFFF;\n",
              "    }\n",
              "  </style>\n",
              "\n",
              "      <script>\n",
              "        const buttonEl =\n",
              "          document.querySelector('#df-8e4836e4-a15c-4380-b11b-272c81fcbe9f button.colab-df-convert');\n",
              "        buttonEl.style.display =\n",
              "          google.colab.kernel.accessAllowed ? 'block' : 'none';\n",
              "\n",
              "        async function convertToInteractive(key) {\n",
              "          const element = document.querySelector('#df-8e4836e4-a15c-4380-b11b-272c81fcbe9f');\n",
              "          const dataTable =\n",
              "            await google.colab.kernel.invokeFunction('convertToInteractive',\n",
              "                                                     [key], {});\n",
              "          if (!dataTable) return;\n",
              "\n",
              "          const docLinkHtml = 'Like what you see? Visit the ' +\n",
              "            '<a target=\"_blank\" href=https://colab.research.google.com/notebooks/data_table.ipynb>data table notebook</a>'\n",
              "            + ' to learn more about interactive tables.';\n",
              "          element.innerHTML = '';\n",
              "          dataTable['output_type'] = 'display_data';\n",
              "          await google.colab.output.renderOutput(dataTable, element);\n",
              "          const docLink = document.createElement('div');\n",
              "          docLink.innerHTML = docLinkHtml;\n",
              "          element.appendChild(docLink);\n",
              "        }\n",
              "      </script>\n",
              "    </div>\n",
              "  </div>\n"
            ]
          },
          "metadata": {},
          "execution_count": 17
        }
      ],
      "source": [
        "df_train[df_train['text'].duplicated() == True]"
      ]
    },
    {
      "cell_type": "code",
      "execution_count": 18,
      "id": "b1abe6ec-5fc3-4d0d-8533-f2eb83e4de0f",
      "metadata": {
        "tags": [],
        "id": "b1abe6ec-5fc3-4d0d-8533-f2eb83e4de0f"
      },
      "outputs": [],
      "source": [
        "index = df_train[df_train['text'].duplicated() == True].index\n",
        "df_train.drop(index, axis = 0, inplace = True)\n",
        "df_train.reset_index(inplace=True, drop = True)"
      ]
    },
    {
      "cell_type": "code",
      "execution_count": 19,
      "id": "bb651637-b6c0-4b4a-8f2c-1ad0a96bfdb2",
      "metadata": {
        "tags": [],
        "id": "bb651637-b6c0-4b4a-8f2c-1ad0a96bfdb2",
        "outputId": "e3f295bb-b784-4a49-b3bb-d08eedb71d92",
        "colab": {
          "base_uri": "https://localhost:8080/"
        }
      },
      "outputs": [
        {
          "output_type": "execute_result",
          "data": {
            "text/plain": [
              "0"
            ]
          },
          "metadata": {},
          "execution_count": 19
        }
      ],
      "source": [
        "df_train.duplicated().sum()"
      ]
    },
    {
      "cell_type": "code",
      "execution_count": 20,
      "id": "9e0a1ee8-03f8-40dc-b5bb-5c6cfa4ab83f",
      "metadata": {
        "tags": [],
        "id": "9e0a1ee8-03f8-40dc-b5bb-5c6cfa4ab83f",
        "outputId": "1030446d-76dd-4039-f206-76798afa372f",
        "colab": {
          "base_uri": "https://localhost:8080/"
        }
      },
      "outputs": [
        {
          "output_type": "stream",
          "name": "stderr",
          "text": [
            "[nltk_data] Downloading package stopwords to /root/nltk_data...\n",
            "[nltk_data]   Unzipping corpora/stopwords.zip.\n"
          ]
        }
      ],
      "source": [
        "import nltk\n",
        "from nltk.corpus import stopwords\n",
        "from nltk.stem import SnowballStemmer, WordNetLemmatizer\n",
        "\n",
        "nltk.download('stopwords')\n",
        "stop_words = set(stopwords.words(\"english\"))\n",
        "lemmatizer= WordNetLemmatizer()"
      ]
    },
    {
      "cell_type": "code",
      "execution_count": 21,
      "id": "ea5171ef-0b42-4936-ab3e-d31ef6720334",
      "metadata": {
        "tags": [],
        "id": "ea5171ef-0b42-4936-ab3e-d31ef6720334",
        "outputId": "3fe8a55c-f425-4df1-b544-7eeed04a8ceb",
        "colab": {
          "base_uri": "https://localhost:8080/"
        }
      },
      "outputs": [
        {
          "output_type": "execute_result",
          "data": {
            "text/plain": [
              "6      6430\n",
              "7      6302\n",
              "5      6210\n",
              "8      6108\n",
              "9      5918\n",
              "       ... \n",
              "121       2\n",
              "120       2\n",
              "122       1\n",
              "115       1\n",
              "123       1\n",
              "Name: stop_words, Length: 123, dtype: int64"
            ]
          },
          "metadata": {},
          "execution_count": 21
        }
      ],
      "source": [
        "temp =df_train.copy()\n",
        "stop_words = set(stopwords.words(\"english\"))\n",
        "temp['stop_words'] = temp['text'].apply(lambda x: len(set(x.split()) & set(stop_words)))\n",
        "temp.stop_words.value_counts()"
      ]
    },
    {
      "cell_type": "markdown",
      "id": "a09e3ca5-617d-4ac7-86ae-b017d4c96bb6",
      "metadata": {
        "id": "a09e3ca5-617d-4ac7-86ae-b017d4c96bb6"
      },
      "source": [
        "### Test Set"
      ]
    },
    {
      "cell_type": "code",
      "execution_count": 22,
      "id": "47df0e89-5b20-44a9-a919-77d42f8431c3",
      "metadata": {
        "tags": [],
        "id": "47df0e89-5b20-44a9-a919-77d42f8431c3",
        "outputId": "9751aa73-dc8c-4370-ed57-62f4ae4800be",
        "colab": {
          "base_uri": "https://localhost:8080/"
        }
      },
      "outputs": [
        {
          "output_type": "execute_result",
          "data": {
            "text/plain": [
              "non-suicide    23277\n",
              "depression     23207\n",
              "suicide        23137\n",
              "Name: sentiment, dtype: int64"
            ]
          },
          "metadata": {},
          "execution_count": 22
        }
      ],
      "source": [
        "df_test.sentiment.value_counts()"
      ]
    },
    {
      "cell_type": "code",
      "execution_count": 23,
      "id": "685b9e93-ab7f-4ee4-993e-95140e3cb70f",
      "metadata": {
        "tags": [],
        "id": "685b9e93-ab7f-4ee4-993e-95140e3cb70f",
        "outputId": "7e67aa36-f60c-410d-ce06-0082dc74d65f",
        "colab": {
          "base_uri": "https://localhost:8080/",
          "height": 311
        }
      },
      "outputs": [
        {
          "output_type": "display_data",
          "data": {
            "text/plain": [
              "<Figure size 600x300 with 1 Axes>"
            ],
            "image/png": "[encoded data removed]"
          },
          "metadata": {}
        }
      ],
      "source": [
        "plt.figure(figsize=(6,3))\n",
        "sns.countplot(x='sentiment', data=df_test);"
      ]
    },
    {
      "cell_type": "code",
      "execution_count": 24,
      "id": "fb432dd9-cf60-437a-b20f-08540d8bb4f7",
      "metadata": {
        "tags": [],
        "id": "fb432dd9-cf60-437a-b20f-08540d8bb4f7",
        "outputId": "21df9c8e-e9b1-4ded-ff0e-337ff238d90f",
        "colab": {
          "base_uri": "https://localhost:8080/"
        }
      },
      "outputs": [
        {
          "output_type": "execute_result",
          "data": {
            "text/plain": [
              "text         0\n",
              "sentiment    4\n",
              "dtype: int64"
            ]
          },
          "metadata": {},
          "execution_count": 24
        }
      ],
      "source": [
        "df_test.isnull().sum()"
      ]
    },
    {
      "cell_type": "code",
      "execution_count": 25,
      "id": "66b4c930-6690-4703-9155-76509154cc5e",
      "metadata": {
        "tags": [],
        "id": "66b4c930-6690-4703-9155-76509154cc5e"
      },
      "outputs": [],
      "source": [
        "df_test.fillna('non-suicide' , inplace=True)"
      ]
    },
    {
      "cell_type": "code",
      "execution_count": 26,
      "id": "e17cba12-8048-4014-9c12-e52fee202776",
      "metadata": {
        "tags": [],
        "id": "e17cba12-8048-4014-9c12-e52fee202776",
        "outputId": "27cdbb3f-0999-440c-b668-b0066de70bb3",
        "colab": {
          "base_uri": "https://localhost:8080/"
        }
      },
      "outputs": [
        {
          "output_type": "execute_result",
          "data": {
            "text/plain": [
              "0"
            ]
          },
          "metadata": {},
          "execution_count": 26
        }
      ],
      "source": [
        "df_test.duplicated().sum()"
      ]
    },
    {
      "cell_type": "code",
      "execution_count": 27,
      "id": "fdb663ca-4ca9-49bf-953b-b987346be9dd",
      "metadata": {
        "tags": [],
        "id": "fdb663ca-4ca9-49bf-953b-b987346be9dd",
        "outputId": "ecb4b61f-7d51-44f6-f9c6-9eb29d42ce81",
        "colab": {
          "base_uri": "https://localhost:8080/"
        }
      },
      "outputs": [
        {
          "output_type": "execute_result",
          "data": {
            "text/plain": [
              "6      2056\n",
              "7      2033\n",
              "5      1969\n",
              "8      1908\n",
              "4      1847\n",
              "       ... \n",
              "117       2\n",
              "113       2\n",
              "115       1\n",
              "119       1\n",
              "114       1\n",
              "Name: stop_words, Length: 118, dtype: int64"
            ]
          },
          "metadata": {},
          "execution_count": 27
        }
      ],
      "source": [
        "temp =df_test.copy()\n",
        "temp['stop_words'] = temp['text'].apply(lambda x: len(set(x.split()) & set(stop_words)))\n",
        "temp.stop_words.value_counts()"
      ]
    },
    {
      "cell_type": "markdown",
      "id": "b95f78db-2f97-415c-9d05-7697097345f0",
      "metadata": {
        "id": "b95f78db-2f97-415c-9d05-7697097345f0"
      },
      "source": [
        "### Validation set"
      ]
    },
    {
      "cell_type": "code",
      "execution_count": 28,
      "id": "fe714577-5761-4786-9653-4704a1f5bb71",
      "metadata": {
        "tags": [],
        "id": "fe714577-5761-4786-9653-4704a1f5bb71",
        "outputId": "6b99bfa4-4a0e-4550-a5d6-fae91b9f503b",
        "colab": {
          "base_uri": "https://localhost:8080/"
        }
      },
      "outputs": [
        {
          "output_type": "execute_result",
          "data": {
            "text/plain": [
              "suicide        18636\n",
              "depression     18549\n",
              "non-suicide    18512\n",
              "Name: sentiment, dtype: int64"
            ]
          },
          "metadata": {},
          "execution_count": 28
        }
      ],
      "source": [
        "df_val.sentiment.value_counts()"
      ]
    },
    {
      "cell_type": "code",
      "execution_count": 29,
      "id": "0cee5b76-4bdc-4dc1-9a2d-449485655179",
      "metadata": {
        "tags": [],
        "id": "0cee5b76-4bdc-4dc1-9a2d-449485655179",
        "outputId": "2ee4bef0-e20d-459c-e234-8a06d992dc49",
        "colab": {
          "base_uri": "https://localhost:8080/",
          "height": 311
        }
      },
      "outputs": [
        {
          "output_type": "display_data",
          "data": {
            "text/plain": [
              "<Figure size 600x300 with 1 Axes>"
            ],
            "image/png": "[encoded data removed]"
          },
          "metadata": {}
        }
      ],
      "source": [
        "plt.figure(figsize=(6,3))\n",
        "sns.countplot(x='sentiment', data=df_val);"
      ]
    },
    {
      "cell_type": "code",
      "execution_count": 30,
      "id": "1d7054d7-a3f6-447e-a487-4cf6ad1dce70",
      "metadata": {
        "tags": [],
        "id": "1d7054d7-a3f6-447e-a487-4cf6ad1dce70",
        "outputId": "590be035-4f42-4ec7-93ea-d79b1267fa8f",
        "colab": {
          "base_uri": "https://localhost:8080/"
        }
      },
      "outputs": [
        {
          "output_type": "execute_result",
          "data": {
            "text/plain": [
              "text         0\n",
              "sentiment    3\n",
              "dtype: int64"
            ]
          },
          "metadata": {},
          "execution_count": 30
        }
      ],
      "source": [
        "df_val.isnull().sum()"
      ]
    },
    {
      "cell_type": "code",
      "execution_count": 31,
      "id": "b62a920a-29cd-4d0c-8a02-d1e06d346ef5",
      "metadata": {
        "tags": [],
        "id": "b62a920a-29cd-4d0c-8a02-d1e06d346ef5"
      },
      "outputs": [],
      "source": [
        "df_val.fillna('non-suicide' , inplace=True)"
      ]
    },
    {
      "cell_type": "code",
      "execution_count": 32,
      "id": "4d41e2e6-87f6-4c91-8f31-6ce4c317ea47",
      "metadata": {
        "tags": [],
        "id": "4d41e2e6-87f6-4c91-8f31-6ce4c317ea47",
        "outputId": "9766ce3b-a99d-4be2-8108-d7e0d53c1829",
        "colab": {
          "base_uri": "https://localhost:8080/"
        }
      },
      "outputs": [
        {
          "output_type": "execute_result",
          "data": {
            "text/plain": [
              "0"
            ]
          },
          "metadata": {},
          "execution_count": 32
        }
      ],
      "source": [
        "df_val.duplicated().sum()"
      ]
    },
    {
      "cell_type": "code",
      "execution_count": 33,
      "id": "18363bb0-5ebc-4609-9845-a65b4c91d5ef",
      "metadata": {
        "tags": [],
        "id": "18363bb0-5ebc-4609-9845-a65b4c91d5ef",
        "outputId": "69439cac-28cf-4497-a5ed-643effcbf2ba",
        "colab": {
          "base_uri": "https://localhost:8080/"
        }
      },
      "outputs": [
        {
          "output_type": "execute_result",
          "data": {
            "text/plain": [
              "0    55700\n",
              "Name: stop_words, dtype: int64"
            ]
          },
          "metadata": {},
          "execution_count": 33
        }
      ],
      "source": [
        "temp =df_val.copy()\n",
        "temp['stop_words'] = temp['sentiment'].apply(lambda x: len(set(x.split()) & set(stop_words)))\n",
        "temp.stop_words.value_counts()"
      ]
    },
    {
      "cell_type": "code",
      "execution_count": 34,
      "id": "36fdff62-eaad-4fde-8994-d7dc912dfd9f",
      "metadata": {
        "tags": [],
        "id": "36fdff62-eaad-4fde-8994-d7dc912dfd9f"
      },
      "outputs": [],
      "source": [
        "def dataframe_difference(df1, df2, which=None):\n",
        "    \"\"\"Find rows which are different between two DataFrames.\"\"\"\n",
        "\n",
        "    # Combine the two DataFrames using a merge operation, with the\n",
        "    # indicator parameter set to True. This adds a column called _merge\n",
        "    # to the resulting DataFrame, which indicates the source of each row.\n",
        "    comparison_df = df1.merge(\n",
        "        df2,\n",
        "        indicator=True,\n",
        "        how='outer'\n",
        "    )\n",
        "\n",
        "    # Filter the merged DataFrame based on the value of _merge. If which\n",
        "    # is not specified, return all rows where _merge is not 'both'.\n",
        "    # Otherwise, return all rows where _merge has the specified value\n",
        "    if which is None:\n",
        "        diff_df = comparison_df[comparison_df['_merge'] != 'both']\n",
        "    else:\n",
        "        diff_df = comparison_df[comparison_df['_merge'] == which]\n",
        "\n",
        "    # Return the filtered DataFrame\n",
        "    return diff_df"
      ]
    },
    {
      "cell_type": "code",
      "execution_count": 35,
      "id": "de606f01-0a47-4658-87f6-f6928374fa69",
      "metadata": {
        "tags": [],
        "id": "de606f01-0a47-4658-87f6-f6928374fa69",
        "outputId": "bd88c074-2fcb-4e3e-9ead-7d24f98aa141",
        "colab": {
          "base_uri": "https://localhost:8080/",
          "height": 49
        }
      },
      "outputs": [
        {
          "output_type": "execute_result",
          "data": {
            "text/plain": [
              "Empty DataFrame\n",
              "Columns: [text, sentiment, _merge]\n",
              "Index: []"
            ],
            "text/html": [
              "\n",
              "\n",
              "  <div id=\"df-e78ddfed-1002-4a4f-bfe7-87dc5331c40b\">\n",
              "    <div class=\"colab-df-container\">\n",
              "      <div>\n",
              "<style scoped>\n",
              "    .dataframe tbody tr th:only-of-type {\n",
              "        vertical-align: middle;\n",
              "    }\n",
              "\n",
              "    .dataframe tbody tr th {\n",
              "        vertical-align: top;\n",
              "    }\n",
              "\n",
              "    .dataframe thead th {\n",
              "        text-align: right;\n",
              "    }\n",
              "</style>\n",
              "<table border=\"1\" class=\"dataframe\">\n",
              "  <thead>\n",
              "    <tr style=\"text-align: right;\">\n",
              "      <th></th>\n",
              "      <th>text</th>\n",
              "      <th>sentiment</th>\n",
              "      <th>_merge</th>\n",
              "    </tr>\n",
              "  </thead>\n",
              "  <tbody>\n",
              "  </tbody>\n",
              "</table>\n",
              "</div>\n",
              "      <button class=\"colab-df-convert\" onclick=\"convertToInteractive('df-e78ddfed-1002-4a4f-bfe7-87dc5331c40b')\"\n",
              "              title=\"Convert this dataframe to an interactive table.\"\n",
              "              style=\"display:none;\">\n",
              "\n",
              "  <svg xmlns=\"http://www.w3.org/2000/svg\" height=\"24px\"viewBox=\"0 0 24 24\"\n",
              "       width=\"24px\">\n",
              "    <path d=\"M0 0h24v24H0V0z\" fill=\"none\"/>\n",
              "    <path d=\"M18.56 5.44l.94 2.06.94-2.06 2.06-.94-2.06-.94-.94-2.06-.94 2.06-2.06.94zm-11 1L8.5 8.5l.94-2.06 2.06-.94-2.06-.94L8.5 2.5l-.94 2.06-2.06.94zm10 10l.94 2.06.94-2.06 2.06-.94-2.06-.94-.94-2.06-.94 2.06-2.06.94z\"/><path d=\"M17.41 7.96l-1.37-1.37c-.4-.4-.92-.59-1.43-.59-.52 0-1.04.2-1.43.59L10.3 9.45l-7.72 7.72c-.78.78-.78 2.05 0 2.83L4 21.41c.39.39.9.59 1.41.59.51 0 1.02-.2 1.41-.59l7.78-7.78 2.81-2.81c.8-.78.8-2.07 0-2.86zM5.41 20L4 18.59l7.72-7.72 1.47 1.35L5.41 20z\"/>\n",
              "  </svg>\n",
              "      </button>\n",
              "\n",
              "\n",
              "\n",
              "    <div id=\"df-b52020e6-0210-403e-9b4b-2d1edf7f3938\">\n",
              "      <button class=\"colab-df-quickchart\" onclick=\"quickchart('df-b52020e6-0210-403e-9b4b-2d1edf7f3938')\"\n",
              "              title=\"Suggest charts.\"\n",
              "              style=\"display:none;\">\n",
              "\n",
              "<svg xmlns=\"http://www.w3.org/2000/svg\" height=\"24px\"viewBox=\"0 0 24 24\"\n",
              "     width=\"24px\">\n",
              "    <g>\n",
              "        <path d=\"M19 3H5c-1.1 0-2 .9-2 2v14c0 1.1.9 2 2 2h14c1.1 0 2-.9 2-2V5c0-1.1-.9-2-2-2zM9 17H7v-7h2v7zm4 0h-2V7h2v10zm4 0h-2v-4h2v4z\"/>\n",
              "    </g>\n",
              "</svg>\n",
              "      </button>\n",
              "    </div>\n",
              "\n",
              "<style>\n",
              "  .colab-df-quickchart {\n",
              "    background-color: #E8F0FE;\n",
              "    border: none;\n",
              "    border-radius: 50%;\n",
              "    cursor: pointer;\n",
              "    display: none;\n",
              "    fill: #1967D2;\n",
              "    height: 32px;\n",
              "    padding: 0 0 0 0;\n",
              "    width: 32px;\n",
              "  }\n",
              "\n",
              "  .colab-df-quickchart:hover {\n",
              "    background-color: #E2EBFA;\n",
              "    box-shadow: 0px 1px 2px rgba(60, 64, 67, 0.3), 0px 1px 3px 1px rgba(60, 64, 67, 0.15);\n",
              "    fill: #174EA6;\n",
              "  }\n",
              "\n",
              "  [theme=dark] .colab-df-quickchart {\n",
              "    background-color: #3B4455;\n",
              "    fill: #D2E3FC;\n",
              "  }\n",
              "\n",
              "  [theme=dark] .colab-df-quickchart:hover {\n",
              "    background-color: #434B5C;\n",
              "    box-shadow: 0px 1px 3px 1px rgba(0, 0, 0, 0.15);\n",
              "    filter: drop-shadow(0px 1px 2px rgba(0, 0, 0, 0.3));\n",
              "    fill: #FFFFFF;\n",
              "  }\n",
              "</style>\n",
              "\n",
              "    <script>\n",
              "      async function quickchart(key) {\n",
              "        const containerElement = document.querySelector('#' + key);\n",
              "        const charts = await google.colab.kernel.invokeFunction(\n",
              "            'suggestCharts', [key], {});\n",
              "      }\n",
              "    </script>\n",
              "\n",
              "      <script>\n",
              "\n",
              "function displayQuickchartButton(domScope) {\n",
              "  let quickchartButtonEl =\n",
              "    domScope.querySelector('#df-b52020e6-0210-403e-9b4b-2d1edf7f3938 button.colab-df-quickchart');\n",
              "  quickchartButtonEl.style.display =\n",
              "    google.colab.kernel.accessAllowed ? 'block' : 'none';\n",
              "}\n",
              "\n",
              "        displayQuickchartButton(document);\n",
              "      </script>\n",
              "      <style>\n",
              "    .colab-df-container {\n",
              "      display:flex;\n",
              "      flex-wrap:wrap;\n",
              "      gap: 12px;\n",
              "    }\n",
              "\n",
              "    .colab-df-convert {\n",
              "      background-color: #E8F0FE;\n",
              "      border: none;\n",
              "      border-radius: 50%;\n",
              "      cursor: pointer;\n",
              "      display: none;\n",
              "      fill: #1967D2;\n",
              "      height: 32px;\n",
              "      padding: 0 0 0 0;\n",
              "      width: 32px;\n",
              "    }\n",
              "\n",
              "    .colab-df-convert:hover {\n",
              "      background-color: #E2EBFA;\n",
              "      box-shadow: 0px 1px 2px rgba(60, 64, 67, 0.3), 0px 1px 3px 1px rgba(60, 64, 67, 0.15);\n",
              "      fill: #174EA6;\n",
              "    }\n",
              "\n",
              "    [theme=dark] .colab-df-convert {\n",
              "      background-color: #3B4455;\n",
              "      fill: #D2E3FC;\n",
              "    }\n",
              "\n",
              "    [theme=dark] .colab-df-convert:hover {\n",
              "      background-color: #434B5C;\n",
              "      box-shadow: 0px 1px 3px 1px rgba(0, 0, 0, 0.15);\n",
              "      filter: drop-shadow(0px 1px 2px rgba(0, 0, 0, 0.3));\n",
              "      fill: #FFFFFF;\n",
              "    }\n",
              "  </style>\n",
              "\n",
              "      <script>\n",
              "        const buttonEl =\n",
              "          document.querySelector('#df-e78ddfed-1002-4a4f-bfe7-87dc5331c40b button.colab-df-convert');\n",
              "        buttonEl.style.display =\n",
              "          google.colab.kernel.accessAllowed ? 'block' : 'none';\n",
              "\n",
              "        async function convertToInteractive(key) {\n",
              "          const element = document.querySelector('#df-e78ddfed-1002-4a4f-bfe7-87dc5331c40b');\n",
              "          const dataTable =\n",
              "            await google.colab.kernel.invokeFunction('convertToInteractive',\n",
              "                                                     [key], {});\n",
              "          if (!dataTable) return;\n",
              "\n",
              "          const docLinkHtml = 'Like what you see? Visit the ' +\n",
              "            '<a target=\"_blank\" href=https://colab.research.google.com/notebooks/data_table.ipynb>data table notebook</a>'\n",
              "            + ' to learn more about interactive tables.';\n",
              "          element.innerHTML = '';\n",
              "          dataTable['output_type'] = 'display_data';\n",
              "          await google.colab.output.renderOutput(dataTable, element);\n",
              "          const docLink = document.createElement('div');\n",
              "          docLink.innerHTML = docLinkHtml;\n",
              "          element.appendChild(docLink);\n",
              "        }\n",
              "      </script>\n",
              "    </div>\n",
              "  </div>\n"
            ]
          },
          "metadata": {},
          "execution_count": 35
        }
      ],
      "source": [
        "dataframe_difference(df_train, df_test, which='both')"
      ]
    },
    {
      "cell_type": "code",
      "execution_count": 36,
      "id": "367ac98f-5d5b-4bf6-bcf8-5e62190acc6e",
      "metadata": {
        "tags": [],
        "id": "367ac98f-5d5b-4bf6-bcf8-5e62190acc6e",
        "outputId": "c97a2796-6388-4597-d77a-09890e7ffc6b",
        "colab": {
          "base_uri": "https://localhost:8080/",
          "height": 49
        }
      },
      "outputs": [
        {
          "output_type": "execute_result",
          "data": {
            "text/plain": [
              "Empty DataFrame\n",
              "Columns: [text, sentiment, _merge]\n",
              "Index: []"
            ],
            "text/html": [
              "\n",
              "\n",
              "  <div id=\"df-563af238-efe6-4f67-9759-50e5eb58067f\">\n",
              "    <div class=\"colab-df-container\">\n",
              "      <div>\n",
              "<style scoped>\n",
              "    .dataframe tbody tr th:only-of-type {\n",
              "        vertical-align: middle;\n",
              "    }\n",
              "\n",
              "    .dataframe tbody tr th {\n",
              "        vertical-align: top;\n",
              "    }\n",
              "\n",
              "    .dataframe thead th {\n",
              "        text-align: right;\n",
              "    }\n",
              "</style>\n",
              "<table border=\"1\" class=\"dataframe\">\n",
              "  <thead>\n",
              "    <tr style=\"text-align: right;\">\n",
              "      <th></th>\n",
              "      <th>text</th>\n",
              "      <th>sentiment</th>\n",
              "      <th>_merge</th>\n",
              "    </tr>\n",
              "  </thead>\n",
              "  <tbody>\n",
              "  </tbody>\n",
              "</table>\n",
              "</div>\n",
              "      <button class=\"colab-df-convert\" onclick=\"convertToInteractive('df-563af238-efe6-4f67-9759-50e5eb58067f')\"\n",
              "              title=\"Convert this dataframe to an interactive table.\"\n",
              "              style=\"display:none;\">\n",
              "\n",
              "  <svg xmlns=\"http://www.w3.org/2000/svg\" height=\"24px\"viewBox=\"0 0 24 24\"\n",
              "       width=\"24px\">\n",
              "    <path d=\"M0 0h24v24H0V0z\" fill=\"none\"/>\n",
              "    <path d=\"M18.56 5.44l.94 2.06.94-2.06 2.06-.94-2.06-.94-.94-2.06-.94 2.06-2.06.94zm-11 1L8.5 8.5l.94-2.06 2.06-.94-2.06-.94L8.5 2.5l-.94 2.06-2.06.94zm10 10l.94 2.06.94-2.06 2.06-.94-2.06-.94-.94-2.06-.94 2.06-2.06.94z\"/><path d=\"M17.41 7.96l-1.37-1.37c-.4-.4-.92-.59-1.43-.59-.52 0-1.04.2-1.43.59L10.3 9.45l-7.72 7.72c-.78.78-.78 2.05 0 2.83L4 21.41c.39.39.9.59 1.41.59.51 0 1.02-.2 1.41-.59l7.78-7.78 2.81-2.81c.8-.78.8-2.07 0-2.86zM5.41 20L4 18.59l7.72-7.72 1.47 1.35L5.41 20z\"/>\n",
              "  </svg>\n",
              "      </button>\n",
              "\n",
              "\n",
              "\n",
              "    <div id=\"df-6cd8817f-fbf0-453e-be00-68bd2eda25f5\">\n",
              "      <button class=\"colab-df-quickchart\" onclick=\"quickchart('df-6cd8817f-fbf0-453e-be00-68bd2eda25f5')\"\n",
              "              title=\"Suggest charts.\"\n",
              "              style=\"display:none;\">\n",
              "\n",
              "<svg xmlns=\"http://www.w3.org/2000/svg\" height=\"24px\"viewBox=\"0 0 24 24\"\n",
              "     width=\"24px\">\n",
              "    <g>\n",
              "        <path d=\"M19 3H5c-1.1 0-2 .9-2 2v14c0 1.1.9 2 2 2h14c1.1 0 2-.9 2-2V5c0-1.1-.9-2-2-2zM9 17H7v-7h2v7zm4 0h-2V7h2v10zm4 0h-2v-4h2v4z\"/>\n",
              "    </g>\n",
              "</svg>\n",
              "      </button>\n",
              "    </div>\n",
              "\n",
              "<style>\n",
              "  .colab-df-quickchart {\n",
              "    background-color: #E8F0FE;\n",
              "    border: none;\n",
              "    border-radius: 50%;\n",
              "    cursor: pointer;\n",
              "    display: none;\n",
              "    fill: #1967D2;\n",
              "    height: 32px;\n",
              "    padding: 0 0 0 0;\n",
              "    width: 32px;\n",
              "  }\n",
              "\n",
              "  .colab-df-quickchart:hover {\n",
              "    background-color: #E2EBFA;\n",
              "    box-shadow: 0px 1px 2px rgba(60, 64, 67, 0.3), 0px 1px 3px 1px rgba(60, 64, 67, 0.15);\n",
              "    fill: #174EA6;\n",
              "  }\n",
              "\n",
              "  [theme=dark] .colab-df-quickchart {\n",
              "    background-color: #3B4455;\n",
              "    fill: #D2E3FC;\n",
              "  }\n",
              "\n",
              "  [theme=dark] .colab-df-quickchart:hover {\n",
              "    background-color: #434B5C;\n",
              "    box-shadow: 0px 1px 3px 1px rgba(0, 0, 0, 0.15);\n",
              "    filter: drop-shadow(0px 1px 2px rgba(0, 0, 0, 0.3));\n",
              "    fill: #FFFFFF;\n",
              "  }\n",
              "</style>\n",
              "\n",
              "    <script>\n",
              "      async function quickchart(key) {\n",
              "        const containerElement = document.querySelector('#' + key);\n",
              "        const charts = await google.colab.kernel.invokeFunction(\n",
              "            'suggestCharts', [key], {});\n",
              "      }\n",
              "    </script>\n",
              "\n",
              "      <script>\n",
              "\n",
              "function displayQuickchartButton(domScope) {\n",
              "  let quickchartButtonEl =\n",
              "    domScope.querySelector('#df-6cd8817f-fbf0-453e-be00-68bd2eda25f5 button.colab-df-quickchart');\n",
              "  quickchartButtonEl.style.display =\n",
              "    google.colab.kernel.accessAllowed ? 'block' : 'none';\n",
              "}\n",
              "\n",
              "        displayQuickchartButton(document);\n",
              "      </script>\n",
              "      <style>\n",
              "    .colab-df-container {\n",
              "      display:flex;\n",
              "      flex-wrap:wrap;\n",
              "      gap: 12px;\n",
              "    }\n",
              "\n",
              "    .colab-df-convert {\n",
              "      background-color: #E8F0FE;\n",
              "      border: none;\n",
              "      border-radius: 50%;\n",
              "      cursor: pointer;\n",
              "      display: none;\n",
              "      fill: #1967D2;\n",
              "      height: 32px;\n",
              "      padding: 0 0 0 0;\n",
              "      width: 32px;\n",
              "    }\n",
              "\n",
              "    .colab-df-convert:hover {\n",
              "      background-color: #E2EBFA;\n",
              "      box-shadow: 0px 1px 2px rgba(60, 64, 67, 0.3), 0px 1px 3px 1px rgba(60, 64, 67, 0.15);\n",
              "      fill: #174EA6;\n",
              "    }\n",
              "\n",
              "    [theme=dark] .colab-df-convert {\n",
              "      background-color: #3B4455;\n",
              "      fill: #D2E3FC;\n",
              "    }\n",
              "\n",
              "    [theme=dark] .colab-df-convert:hover {\n",
              "      background-color: #434B5C;\n",
              "      box-shadow: 0px 1px 3px 1px rgba(0, 0, 0, 0.15);\n",
              "      filter: drop-shadow(0px 1px 2px rgba(0, 0, 0, 0.3));\n",
              "      fill: #FFFFFF;\n",
              "    }\n",
              "  </style>\n",
              "\n",
              "      <script>\n",
              "        const buttonEl =\n",
              "          document.querySelector('#df-563af238-efe6-4f67-9759-50e5eb58067f button.colab-df-convert');\n",
              "        buttonEl.style.display =\n",
              "          google.colab.kernel.accessAllowed ? 'block' : 'none';\n",
              "\n",
              "        async function convertToInteractive(key) {\n",
              "          const element = document.querySelector('#df-563af238-efe6-4f67-9759-50e5eb58067f');\n",
              "          const dataTable =\n",
              "            await google.colab.kernel.invokeFunction('convertToInteractive',\n",
              "                                                     [key], {});\n",
              "          if (!dataTable) return;\n",
              "\n",
              "          const docLinkHtml = 'Like what you see? Visit the ' +\n",
              "            '<a target=\"_blank\" href=https://colab.research.google.com/notebooks/data_table.ipynb>data table notebook</a>'\n",
              "            + ' to learn more about interactive tables.';\n",
              "          element.innerHTML = '';\n",
              "          dataTable['output_type'] = 'display_data';\n",
              "          await google.colab.output.renderOutput(dataTable, element);\n",
              "          const docLink = document.createElement('div');\n",
              "          docLink.innerHTML = docLinkHtml;\n",
              "          element.appendChild(docLink);\n",
              "        }\n",
              "      </script>\n",
              "    </div>\n",
              "  </div>\n"
            ]
          },
          "metadata": {},
          "execution_count": 36
        }
      ],
      "source": [
        "dataframe_difference(df_train, df_val, which='both')"
      ]
    },
    {
      "cell_type": "code",
      "execution_count": 37,
      "id": "ca2cc865-6f86-4060-99f2-f0ec82c0eeb3",
      "metadata": {
        "tags": [],
        "id": "ca2cc865-6f86-4060-99f2-f0ec82c0eeb3",
        "outputId": "97c20bae-54d2-4f3c-b2ea-0dcc750087da",
        "colab": {
          "base_uri": "https://localhost:8080/",
          "height": 49
        }
      },
      "outputs": [
        {
          "output_type": "execute_result",
          "data": {
            "text/plain": [
              "Empty DataFrame\n",
              "Columns: [text, sentiment, _merge]\n",
              "Index: []"
            ],
            "text/html": [
              "\n",
              "\n",
              "  <div id=\"df-724362b5-2dc5-4dea-9230-2f7b584d01b7\">\n",
              "    <div class=\"colab-df-container\">\n",
              "      <div>\n",
              "<style scoped>\n",
              "    .dataframe tbody tr th:only-of-type {\n",
              "        vertical-align: middle;\n",
              "    }\n",
              "\n",
              "    .dataframe tbody tr th {\n",
              "        vertical-align: top;\n",
              "    }\n",
              "\n",
              "    .dataframe thead th {\n",
              "        text-align: right;\n",
              "    }\n",
              "</style>\n",
              "<table border=\"1\" class=\"dataframe\">\n",
              "  <thead>\n",
              "    <tr style=\"text-align: right;\">\n",
              "      <th></th>\n",
              "      <th>text</th>\n",
              "      <th>sentiment</th>\n",
              "      <th>_merge</th>\n",
              "    </tr>\n",
              "  </thead>\n",
              "  <tbody>\n",
              "  </tbody>\n",
              "</table>\n",
              "</div>\n",
              "      <button class=\"colab-df-convert\" onclick=\"convertToInteractive('df-724362b5-2dc5-4dea-9230-2f7b584d01b7')\"\n",
              "              title=\"Convert this dataframe to an interactive table.\"\n",
              "              style=\"display:none;\">\n",
              "\n",
              "  <svg xmlns=\"http://www.w3.org/2000/svg\" height=\"24px\"viewBox=\"0 0 24 24\"\n",
              "       width=\"24px\">\n",
              "    <path d=\"M0 0h24v24H0V0z\" fill=\"none\"/>\n",
              "    <path d=\"M18.56 5.44l.94 2.06.94-2.06 2.06-.94-2.06-.94-.94-2.06-.94 2.06-2.06.94zm-11 1L8.5 8.5l.94-2.06 2.06-.94-2.06-.94L8.5 2.5l-.94 2.06-2.06.94zm10 10l.94 2.06.94-2.06 2.06-.94-2.06-.94-.94-2.06-.94 2.06-2.06.94z\"/><path d=\"M17.41 7.96l-1.37-1.37c-.4-.4-.92-.59-1.43-.59-.52 0-1.04.2-1.43.59L10.3 9.45l-7.72 7.72c-.78.78-.78 2.05 0 2.83L4 21.41c.39.39.9.59 1.41.59.51 0 1.02-.2 1.41-.59l7.78-7.78 2.81-2.81c.8-.78.8-2.07 0-2.86zM5.41 20L4 18.59l7.72-7.72 1.47 1.35L5.41 20z\"/>\n",
              "  </svg>\n",
              "      </button>\n",
              "\n",
              "\n",
              "\n",
              "    <div id=\"df-f31cdac6-d0ab-414d-bd41-ed15562b4a7c\">\n",
              "      <button class=\"colab-df-quickchart\" onclick=\"quickchart('df-f31cdac6-d0ab-414d-bd41-ed15562b4a7c')\"\n",
              "              title=\"Suggest charts.\"\n",
              "              style=\"display:none;\">\n",
              "\n",
              "<svg xmlns=\"http://www.w3.org/2000/svg\" height=\"24px\"viewBox=\"0 0 24 24\"\n",
              "     width=\"24px\">\n",
              "    <g>\n",
              "        <path d=\"M19 3H5c-1.1 0-2 .9-2 2v14c0 1.1.9 2 2 2h14c1.1 0 2-.9 2-2V5c0-1.1-.9-2-2-2zM9 17H7v-7h2v7zm4 0h-2V7h2v10zm4 0h-2v-4h2v4z\"/>\n",
              "    </g>\n",
              "</svg>\n",
              "      </button>\n",
              "    </div>\n",
              "\n",
              "<style>\n",
              "  .colab-df-quickchart {\n",
              "    background-color: #E8F0FE;\n",
              "    border: none;\n",
              "    border-radius: 50%;\n",
              "    cursor: pointer;\n",
              "    display: none;\n",
              "    fill: #1967D2;\n",
              "    height: 32px;\n",
              "    padding: 0 0 0 0;\n",
              "    width: 32px;\n",
              "  }\n",
              "\n",
              "  .colab-df-quickchart:hover {\n",
              "    background-color: #E2EBFA;\n",
              "    box-shadow: 0px 1px 2px rgba(60, 64, 67, 0.3), 0px 1px 3px 1px rgba(60, 64, 67, 0.15);\n",
              "    fill: #174EA6;\n",
              "  }\n",
              "\n",
              "  [theme=dark] .colab-df-quickchart {\n",
              "    background-color: #3B4455;\n",
              "    fill: #D2E3FC;\n",
              "  }\n",
              "\n",
              "  [theme=dark] .colab-df-quickchart:hover {\n",
              "    background-color: #434B5C;\n",
              "    box-shadow: 0px 1px 3px 1px rgba(0, 0, 0, 0.15);\n",
              "    filter: drop-shadow(0px 1px 2px rgba(0, 0, 0, 0.3));\n",
              "    fill: #FFFFFF;\n",
              "  }\n",
              "</style>\n",
              "\n",
              "    <script>\n",
              "      async function quickchart(key) {\n",
              "        const containerElement = document.querySelector('#' + key);\n",
              "        const charts = await google.colab.kernel.invokeFunction(\n",
              "            'suggestCharts', [key], {});\n",
              "      }\n",
              "    </script>\n",
              "\n",
              "      <script>\n",
              "\n",
              "function displayQuickchartButton(domScope) {\n",
              "  let quickchartButtonEl =\n",
              "    domScope.querySelector('#df-f31cdac6-d0ab-414d-bd41-ed15562b4a7c button.colab-df-quickchart');\n",
              "  quickchartButtonEl.style.display =\n",
              "    google.colab.kernel.accessAllowed ? 'block' : 'none';\n",
              "}\n",
              "\n",
              "        displayQuickchartButton(document);\n",
              "      </script>\n",
              "      <style>\n",
              "    .colab-df-container {\n",
              "      display:flex;\n",
              "      flex-wrap:wrap;\n",
              "      gap: 12px;\n",
              "    }\n",
              "\n",
              "    .colab-df-convert {\n",
              "      background-color: #E8F0FE;\n",
              "      border: none;\n",
              "      border-radius: 50%;\n",
              "      cursor: pointer;\n",
              "      display: none;\n",
              "      fill: #1967D2;\n",
              "      height: 32px;\n",
              "      padding: 0 0 0 0;\n",
              "      width: 32px;\n",
              "    }\n",
              "\n",
              "    .colab-df-convert:hover {\n",
              "      background-color: #E2EBFA;\n",
              "      box-shadow: 0px 1px 2px rgba(60, 64, 67, 0.3), 0px 1px 3px 1px rgba(60, 64, 67, 0.15);\n",
              "      fill: #174EA6;\n",
              "    }\n",
              "\n",
              "    [theme=dark] .colab-df-convert {\n",
              "      background-color: #3B4455;\n",
              "      fill: #D2E3FC;\n",
              "    }\n",
              "\n",
              "    [theme=dark] .colab-df-convert:hover {\n",
              "      background-color: #434B5C;\n",
              "      box-shadow: 0px 1px 3px 1px rgba(0, 0, 0, 0.15);\n",
              "      filter: drop-shadow(0px 1px 2px rgba(0, 0, 0, 0.3));\n",
              "      fill: #FFFFFF;\n",
              "    }\n",
              "  </style>\n",
              "\n",
              "      <script>\n",
              "        const buttonEl =\n",
              "          document.querySelector('#df-724362b5-2dc5-4dea-9230-2f7b584d01b7 button.colab-df-convert');\n",
              "        buttonEl.style.display =\n",
              "          google.colab.kernel.accessAllowed ? 'block' : 'none';\n",
              "\n",
              "        async function convertToInteractive(key) {\n",
              "          const element = document.querySelector('#df-724362b5-2dc5-4dea-9230-2f7b584d01b7');\n",
              "          const dataTable =\n",
              "            await google.colab.kernel.invokeFunction('convertToInteractive',\n",
              "                                                     [key], {});\n",
              "          if (!dataTable) return;\n",
              "\n",
              "          const docLinkHtml = 'Like what you see? Visit the ' +\n",
              "            '<a target=\"_blank\" href=https://colab.research.google.com/notebooks/data_table.ipynb>data table notebook</a>'\n",
              "            + ' to learn more about interactive tables.';\n",
              "          element.innerHTML = '';\n",
              "          dataTable['output_type'] = 'display_data';\n",
              "          await google.colab.output.renderOutput(dataTable, element);\n",
              "          const docLink = document.createElement('div');\n",
              "          docLink.innerHTML = docLinkHtml;\n",
              "          element.appendChild(docLink);\n",
              "        }\n",
              "      </script>\n",
              "    </div>\n",
              "  </div>\n"
            ]
          },
          "metadata": {},
          "execution_count": 37
        }
      ],
      "source": [
        "dataframe_difference(df_test, df_val, which='both')"
      ]
    },
    {
      "cell_type": "markdown",
      "id": "ae13f4ba-23f1-4b0c-9bf7-6918bd152e43",
      "metadata": {
        "id": "ae13f4ba-23f1-4b0c-9bf7-6918bd152e43"
      },
      "source": [
        "### Cleaning"
      ]
    },
    {
      "cell_type": "code",
      "execution_count": 38,
      "id": "86315062-739d-41b3-b8c2-23d1fe47c9d4",
      "metadata": {
        "tags": [],
        "id": "86315062-739d-41b3-b8c2-23d1fe47c9d4",
        "outputId": "ddf2cb91-11a5-4d3f-e1de-91b8d228447e",
        "colab": {
          "base_uri": "https://localhost:8080/"
        }
      },
      "outputs": [
        {
          "output_type": "stream",
          "name": "stderr",
          "text": [
            "[nltk_data] Downloading package wordnet to /root/nltk_data...\n"
          ]
        }
      ],
      "source": [
        "nltk.download('wordnet')\n",
        "def lemmatization(text):\n",
        "    lemmatizer= WordNetLemmatizer()\n",
        "\n",
        "    text = text.split()\n",
        "\n",
        "    text=[lemmatizer.lemmatize(y) for y in text]\n",
        "\n",
        "    return \" \" .join(text)"
      ]
    },
    {
      "cell_type": "code",
      "execution_count": 39,
      "id": "25f8596c-ae79-4de2-bb68-0a496fbbb203",
      "metadata": {
        "tags": [],
        "id": "25f8596c-ae79-4de2-bb68-0a496fbbb203"
      },
      "outputs": [],
      "source": [
        "def remove_stop_words(text):\n",
        "\n",
        "    Text=[i for i in str(text).split() if i not in stop_words]\n",
        "    return \" \".join(Text)"
      ]
    },
    {
      "cell_type": "code",
      "execution_count": 40,
      "id": "f04c7d57-751d-4788-bc5f-64a0c1e3c2ec",
      "metadata": {
        "tags": [],
        "id": "f04c7d57-751d-4788-bc5f-64a0c1e3c2ec"
      },
      "outputs": [],
      "source": [
        "def Removing_numbers(text):\n",
        "    text=''.join([i for i in text if not i.isdigit()])\n",
        "    return text"
      ]
    },
    {
      "cell_type": "code",
      "execution_count": 41,
      "id": "cfb4f9f5-9ce3-48ef-92fe-44a18c5a1ec7",
      "metadata": {
        "tags": [],
        "id": "cfb4f9f5-9ce3-48ef-92fe-44a18c5a1ec7"
      },
      "outputs": [],
      "source": [
        "def lower_case(text):\n",
        "\n",
        "    text = text.split()\n",
        "\n",
        "    text=[y.lower() for y in text]\n",
        "\n",
        "    return \" \" .join(text)"
      ]
    },
    {
      "cell_type": "code",
      "execution_count": 42,
      "id": "5acba285-f08e-4963-8234-dd34140a3733",
      "metadata": {
        "tags": [],
        "id": "5acba285-f08e-4963-8234-dd34140a3733"
      },
      "outputs": [],
      "source": [
        "import re\n",
        "def Removing_punctuations(text):\n",
        "    ## Remove punctuations\n",
        "    text = re.sub('[%s]' % re.escape(\"\"\"!\"#$%&'()*+,،-./:;<=>؟?@[\\]^_`{|}~\"\"\"), ' ', text)\n",
        "    text = text.replace('؛',\"\", )\n",
        "\n",
        "    ## remove extra whitespace\n",
        "    text = re.sub('\\s+', ' ', text)\n",
        "    text =  \" \".join(text.split())\n",
        "    return text.strip()"
      ]
    },
    {
      "cell_type": "code",
      "execution_count": 43,
      "id": "ec457737-992f-4d61-8c68-0a6c27a7f065",
      "metadata": {
        "tags": [],
        "id": "ec457737-992f-4d61-8c68-0a6c27a7f065"
      },
      "outputs": [],
      "source": [
        "def Removing_urls(text):\n",
        "    url_pattern = re.compile(r'https?://\\S+|www\\.\\S+')\n",
        "    return url_pattern.sub(r'', text)"
      ]
    },
    {
      "cell_type": "code",
      "execution_count": 44,
      "id": "3fa82889-6d7a-4106-94d2-8b254e16fe73",
      "metadata": {
        "tags": [],
        "id": "3fa82889-6d7a-4106-94d2-8b254e16fe73"
      },
      "outputs": [],
      "source": [
        "def remove_small_sentences(df):\n",
        "    for i in range(len(df)):\n",
        "        if len(df.text.iloc[i].split()) < 3:\n",
        "            df.text.iloc[i] = np.nan"
      ]
    },
    {
      "cell_type": "code",
      "execution_count": 45,
      "id": "dc94bd37-67a7-44fb-952f-3370bccb677d",
      "metadata": {
        "tags": [],
        "id": "dc94bd37-67a7-44fb-952f-3370bccb677d"
      },
      "outputs": [],
      "source": [
        "def normalize_text(df):\n",
        "    df.text=df.text.apply(lambda text : lower_case(text))\n",
        "    df.text=df.text.apply(lambda text : remove_stop_words(text))\n",
        "    df.text=df.text.apply(lambda text : Removing_numbers(text))\n",
        "    df.text=df.text.apply(lambda text : Removing_punctuations(text))\n",
        "    df.text=df.text.apply(lambda text : Removing_urls(text))\n",
        "    df.text=df.text.apply(lambda text : lemmatization(text))\n",
        "    return df"
      ]
    },
    {
      "cell_type": "code",
      "execution_count": 46,
      "id": "a0b841e1-baa1-44a0-a388-01c2a954f1ba",
      "metadata": {
        "tags": [],
        "id": "a0b841e1-baa1-44a0-a388-01c2a954f1ba"
      },
      "outputs": [],
      "source": [
        "def normalized_sentence(sentence):\n",
        "    sentence= lower_case(sentence)\n",
        "    sentence= remove_stop_words(sentence)\n",
        "    sentence= Removing_numbers(sentence)\n",
        "    sentence= Removing_punctuations(sentence)\n",
        "    sentence= Removing_urls(sentence)\n",
        "    sentence= lemmatization(sentence)\n",
        "    return sentence"
      ]
    },
    {
      "cell_type": "code",
      "execution_count": 47,
      "id": "55f739dd-3285-4dbb-8f73-7947acf801e6",
      "metadata": {
        "tags": [],
        "id": "55f739dd-3285-4dbb-8f73-7947acf801e6",
        "outputId": "27a9c55a-a262-4022-cb60-2c3b490f08f0",
        "colab": {
          "base_uri": "https://localhost:8080/",
          "height": 35
        }
      },
      "outputs": [
        {
          "output_type": "execute_result",
          "data": {
            "text/plain": [
              "'name jay extremely busy weekend much work do c'"
            ],
            "application/vnd.google.colaboratory.intrinsic+json": {
              "type": "string"
            }
          },
          "metadata": {},
          "execution_count": 47
        }
      ],
      "source": [
        "normalized_sentence(\"my name is  JAY Extremely busy weekend. So much work to do. C\")"
      ]
    },
    {
      "cell_type": "code",
      "execution_count": 48,
      "id": "c114ee0f-e882-4403-ae4d-e2edf4ac1016",
      "metadata": {
        "tags": [],
        "id": "c114ee0f-e882-4403-ae4d-e2edf4ac1016"
      },
      "outputs": [],
      "source": [
        "df_train= normalize_text(df_train)\n",
        "df_test= normalize_text(df_test)\n",
        "df_val= normalize_text(df_val)"
      ]
    },
    {
      "cell_type": "code",
      "execution_count": 49,
      "id": "b55fc737-08f4-48cc-849e-e38bec470896",
      "metadata": {
        "tags": [],
        "id": "b55fc737-08f4-48cc-849e-e38bec470896",
        "outputId": "4453bdf4-708e-489a-d33c-1754124b70ea",
        "colab": {
          "base_uri": "https://localhost:8080/",
          "height": 424
        }
      },
      "outputs": [
        {
          "output_type": "execute_result",
          "data": {
            "text/plain": [
              "                                                     text    sentiment\n",
              "0       need help dealing sertraline withdrawali recen...      suicide\n",
              "1           maybe maybe bleedout ever liter blood rid you   depression\n",
              "2       become lonely i d happy someone flirted jokeli...   depression\n",
              "3       wanna gonna scare creepy fuck dm now i d say i...  non-suicide\n",
              "4       seriously want die im ugly awkward these feeli...      suicide\n",
              "...                                                   ...          ...\n",
              "222794  think can t iti nothing spend day home work go...      suicide\n",
              "222795  homophobes🙄‼️ u even mad at🤣🤣🤣🤣🤣🤣 he’s getting...  non-suicide\n",
              "222796  seattle suicide tomorrowhey guy staying family...      suicide\n",
              "222797  nothing live fori really don t i m disabled lo...      suicide\n",
              "222798  m didn’t plan live past high schooli decided e...      suicide\n",
              "\n",
              "[222799 rows x 2 columns]"
            ],
            "text/html": [
              "\n",
              "\n",
              "  <div id=\"df-a062ea74-daa7-44a5-9a64-0ea9c373d030\">\n",
              "    <div class=\"colab-df-container\">\n",
              "      <div>\n",
              "<style scoped>\n",
              "    .dataframe tbody tr th:only-of-type {\n",
              "        vertical-align: middle;\n",
              "    }\n",
              "\n",
              "    .dataframe tbody tr th {\n",
              "        vertical-align: top;\n",
              "    }\n",
              "\n",
              "    .dataframe thead th {\n",
              "        text-align: right;\n",
              "    }\n",
              "</style>\n",
              "<table border=\"1\" class=\"dataframe\">\n",
              "  <thead>\n",
              "    <tr style=\"text-align: right;\">\n",
              "      <th></th>\n",
              "      <th>text</th>\n",
              "      <th>sentiment</th>\n",
              "    </tr>\n",
              "  </thead>\n",
              "  <tbody>\n",
              "    <tr>\n",
              "      <th>0</th>\n",
              "      <td>need help dealing sertraline withdrawali recen...</td>\n",
              "      <td>suicide</td>\n",
              "    </tr>\n",
              "    <tr>\n",
              "      <th>1</th>\n",
              "      <td>maybe maybe bleedout ever liter blood rid you</td>\n",
              "      <td>depression</td>\n",
              "    </tr>\n",
              "    <tr>\n",
              "      <th>2</th>\n",
              "      <td>become lonely i d happy someone flirted jokeli...</td>\n",
              "      <td>depression</td>\n",
              "    </tr>\n",
              "    <tr>\n",
              "      <th>3</th>\n",
              "      <td>wanna gonna scare creepy fuck dm now i d say i...</td>\n",
              "      <td>non-suicide</td>\n",
              "    </tr>\n",
              "    <tr>\n",
              "      <th>4</th>\n",
              "      <td>seriously want die im ugly awkward these feeli...</td>\n",
              "      <td>suicide</td>\n",
              "    </tr>\n",
              "    <tr>\n",
              "      <th>...</th>\n",
              "      <td>...</td>\n",
              "      <td>...</td>\n",
              "    </tr>\n",
              "    <tr>\n",
              "      <th>222794</th>\n",
              "      <td>think can t iti nothing spend day home work go...</td>\n",
              "      <td>suicide</td>\n",
              "    </tr>\n",
              "    <tr>\n",
              "      <th>222795</th>\n",
              "      <td>homophobes🙄‼️ u even mad at🤣🤣🤣🤣🤣🤣 he’s getting...</td>\n",
              "      <td>non-suicide</td>\n",
              "    </tr>\n",
              "    <tr>\n",
              "      <th>222796</th>\n",
              "      <td>seattle suicide tomorrowhey guy staying family...</td>\n",
              "      <td>suicide</td>\n",
              "    </tr>\n",
              "    <tr>\n",
              "      <th>222797</th>\n",
              "      <td>nothing live fori really don t i m disabled lo...</td>\n",
              "      <td>suicide</td>\n",
              "    </tr>\n",
              "    <tr>\n",
              "      <th>222798</th>\n",
              "      <td>m didn’t plan live past high schooli decided e...</td>\n",
              "      <td>suicide</td>\n",
              "    </tr>\n",
              "  </tbody>\n",
              "</table>\n",
              "<p>222799 rows × 2 columns</p>\n",
              "</div>\n",
              "      <button class=\"colab-df-convert\" onclick=\"convertToInteractive('df-a062ea74-daa7-44a5-9a64-0ea9c373d030')\"\n",
              "              title=\"Convert this dataframe to an interactive table.\"\n",
              "              style=\"display:none;\">\n",
              "\n",
              "  <svg xmlns=\"http://www.w3.org/2000/svg\" height=\"24px\"viewBox=\"0 0 24 24\"\n",
              "       width=\"24px\">\n",
              "    <path d=\"M0 0h24v24H0V0z\" fill=\"none\"/>\n",
              "    <path d=\"M18.56 5.44l.94 2.06.94-2.06 2.06-.94-2.06-.94-.94-2.06-.94 2.06-2.06.94zm-11 1L8.5 8.5l.94-2.06 2.06-.94-2.06-.94L8.5 2.5l-.94 2.06-2.06.94zm10 10l.94 2.06.94-2.06 2.06-.94-2.06-.94-.94-2.06-.94 2.06-2.06.94z\"/><path d=\"M17.41 7.96l-1.37-1.37c-.4-.4-.92-.59-1.43-.59-.52 0-1.04.2-1.43.59L10.3 9.45l-7.72 7.72c-.78.78-.78 2.05 0 2.83L4 21.41c.39.39.9.59 1.41.59.51 0 1.02-.2 1.41-.59l7.78-7.78 2.81-2.81c.8-.78.8-2.07 0-2.86zM5.41 20L4 18.59l7.72-7.72 1.47 1.35L5.41 20z\"/>\n",
              "  </svg>\n",
              "      </button>\n",
              "\n",
              "\n",
              "\n",
              "    <div id=\"df-d37147e2-3aa9-43bd-81a3-07eb47f8e0f9\">\n",
              "      <button class=\"colab-df-quickchart\" onclick=\"quickchart('df-d37147e2-3aa9-43bd-81a3-07eb47f8e0f9')\"\n",
              "              title=\"Suggest charts.\"\n",
              "              style=\"display:none;\">\n",
              "\n",
              "<svg xmlns=\"http://www.w3.org/2000/svg\" height=\"24px\"viewBox=\"0 0 24 24\"\n",
              "     width=\"24px\">\n",
              "    <g>\n",
              "        <path d=\"M19 3H5c-1.1 0-2 .9-2 2v14c0 1.1.9 2 2 2h14c1.1 0 2-.9 2-2V5c0-1.1-.9-2-2-2zM9 17H7v-7h2v7zm4 0h-2V7h2v10zm4 0h-2v-4h2v4z\"/>\n",
              "    </g>\n",
              "</svg>\n",
              "      </button>\n",
              "    </div>\n",
              "\n",
              "<style>\n",
              "  .colab-df-quickchart {\n",
              "    background-color: #E8F0FE;\n",
              "    border: none;\n",
              "    border-radius: 50%;\n",
              "    cursor: pointer;\n",
              "    display: none;\n",
              "    fill: #1967D2;\n",
              "    height: 32px;\n",
              "    padding: 0 0 0 0;\n",
              "    width: 32px;\n",
              "  }\n",
              "\n",
              "  .colab-df-quickchart:hover {\n",
              "    background-color: #E2EBFA;\n",
              "    box-shadow: 0px 1px 2px rgba(60, 64, 67, 0.3), 0px 1px 3px 1px rgba(60, 64, 67, 0.15);\n",
              "    fill: #174EA6;\n",
              "  }\n",
              "\n",
              "  [theme=dark] .colab-df-quickchart {\n",
              "    background-color: #3B4455;\n",
              "    fill: #D2E3FC;\n",
              "  }\n",
              "\n",
              "  [theme=dark] .colab-df-quickchart:hover {\n",
              "    background-color: #434B5C;\n",
              "    box-shadow: 0px 1px 3px 1px rgba(0, 0, 0, 0.15);\n",
              "    filter: drop-shadow(0px 1px 2px rgba(0, 0, 0, 0.3));\n",
              "    fill: #FFFFFF;\n",
              "  }\n",
              "</style>\n",
              "\n",
              "    <script>\n",
              "      async function quickchart(key) {\n",
              "        const containerElement = document.querySelector('#' + key);\n",
              "        const charts = await google.colab.kernel.invokeFunction(\n",
              "            'suggestCharts', [key], {});\n",
              "      }\n",
              "    </script>\n",
              "\n",
              "      <script>\n",
              "\n",
              "function displayQuickchartButton(domScope) {\n",
              "  let quickchartButtonEl =\n",
              "    domScope.querySelector('#df-d37147e2-3aa9-43bd-81a3-07eb47f8e0f9 button.colab-df-quickchart');\n",
              "  quickchartButtonEl.style.display =\n",
              "    google.colab.kernel.accessAllowed ? 'block' : 'none';\n",
              "}\n",
              "\n",
              "        displayQuickchartButton(document);\n",
              "      </script>\n",
              "      <style>\n",
              "    .colab-df-container {\n",
              "      display:flex;\n",
              "      flex-wrap:wrap;\n",
              "      gap: 12px;\n",
              "    }\n",
              "\n",
              "    .colab-df-convert {\n",
              "      background-color: #E8F0FE;\n",
              "      border: none;\n",
              "      border-radius: 50%;\n",
              "      cursor: pointer;\n",
              "      display: none;\n",
              "      fill: #1967D2;\n",
              "      height: 32px;\n",
              "      padding: 0 0 0 0;\n",
              "      width: 32px;\n",
              "    }\n",
              "\n",
              "    .colab-df-convert:hover {\n",
              "      background-color: #E2EBFA;\n",
              "      box-shadow: 0px 1px 2px rgba(60, 64, 67, 0.3), 0px 1px 3px 1px rgba(60, 64, 67, 0.15);\n",
              "      fill: #174EA6;\n",
              "    }\n",
              "\n",
              "    [theme=dark] .colab-df-convert {\n",
              "      background-color: #3B4455;\n",
              "      fill: #D2E3FC;\n",
              "    }\n",
              "\n",
              "    [theme=dark] .colab-df-convert:hover {\n",
              "      background-color: #434B5C;\n",
              "      box-shadow: 0px 1px 3px 1px rgba(0, 0, 0, 0.15);\n",
              "      filter: drop-shadow(0px 1px 2px rgba(0, 0, 0, 0.3));\n",
              "      fill: #FFFFFF;\n",
              "    }\n",
              "  </style>\n",
              "\n",
              "      <script>\n",
              "        const buttonEl =\n",
              "          document.querySelector('#df-a062ea74-daa7-44a5-9a64-0ea9c373d030 button.colab-df-convert');\n",
              "        buttonEl.style.display =\n",
              "          google.colab.kernel.accessAllowed ? 'block' : 'none';\n",
              "\n",
              "        async function convertToInteractive(key) {\n",
              "          const element = document.querySelector('#df-a062ea74-daa7-44a5-9a64-0ea9c373d030');\n",
              "          const dataTable =\n",
              "            await google.colab.kernel.invokeFunction('convertToInteractive',\n",
              "                                                     [key], {});\n",
              "          if (!dataTable) return;\n",
              "\n",
              "          const docLinkHtml = 'Like what you see? Visit the ' +\n",
              "            '<a target=\"_blank\" href=https://colab.research.google.com/notebooks/data_table.ipynb>data table notebook</a>'\n",
              "            + ' to learn more about interactive tables.';\n",
              "          element.innerHTML = '';\n",
              "          dataTable['output_type'] = 'display_data';\n",
              "          await google.colab.output.renderOutput(dataTable, element);\n",
              "          const docLink = document.createElement('div');\n",
              "          docLink.innerHTML = docLinkHtml;\n",
              "          element.appendChild(docLink);\n",
              "        }\n",
              "      </script>\n",
              "    </div>\n",
              "  </div>\n"
            ]
          },
          "metadata": {},
          "execution_count": 49
        }
      ],
      "source": [
        "df_train"
      ]
    },
    {
      "cell_type": "markdown",
      "id": "4672e1a6-2b37-44c8-850b-c3c2a4877ec1",
      "metadata": {
        "tags": [],
        "id": "4672e1a6-2b37-44c8-850b-c3c2a4877ec1"
      },
      "source": [
        "# MODEL"
      ]
    },
    {
      "cell_type": "markdown",
      "id": "47044237-89fe-463b-a7c9-1c24a8182b0c",
      "metadata": {
        "tags": [],
        "id": "47044237-89fe-463b-a7c9-1c24a8182b0c"
      },
      "source": [
        "## 1. RNN model"
      ]
    },
    {
      "cell_type": "markdown",
      "id": "4e1cb1a2-b297-4394-95dc-a9820a4dc86c",
      "metadata": {
        "tags": [],
        "id": "4e1cb1a2-b297-4394-95dc-a9820a4dc86c"
      },
      "source": [
        "### Tokenizing"
      ]
    },
    {
      "cell_type": "code",
      "execution_count": 50,
      "id": "23d665c4-0c2b-47fb-8886-477cdfa9da37",
      "metadata": {
        "tags": [],
        "id": "23d665c4-0c2b-47fb-8886-477cdfa9da37"
      },
      "outputs": [],
      "source": [
        "X_train = df_train['text']\n",
        "y_train = df_train['sentiment']\n",
        "\n",
        "X_test = df_test['text']\n",
        "y_test = df_test['sentiment']\n",
        "\n",
        "X_val = df_val['text']\n",
        "y_val = df_val['sentiment']\n"
      ]
    },
    {
      "cell_type": "code",
      "execution_count": 51,
      "id": "5697be7b-62e6-4f39-94d4-2922491302ef",
      "metadata": {
        "tags": [],
        "id": "5697be7b-62e6-4f39-94d4-2922491302ef"
      },
      "outputs": [],
      "source": [
        "from sklearn.preprocessing import LabelEncoder\n",
        "le = LabelEncoder()\n",
        "y_train = le.fit_transform(y_train)\n",
        "y_test = le.transform(y_test)\n",
        "y_val = le.transform(y_val)\n"
      ]
    },
    {
      "cell_type": "code",
      "execution_count": 52,
      "id": "29a71d4d-acc9-4129-bc5b-8543a2b5fe87",
      "metadata": {
        "tags": [],
        "id": "29a71d4d-acc9-4129-bc5b-8543a2b5fe87",
        "outputId": "407f801e-30bc-4ca0-c4c7-8ae1ee332d96",
        "colab": {
          "base_uri": "https://localhost:8080/"
        }
      },
      "outputs": [
        {
          "output_type": "execute_result",
          "data": {
            "text/plain": [
              "array([2, 0, 0, ..., 2, 2, 2])"
            ]
          },
          "metadata": {},
          "execution_count": 52
        }
      ],
      "source": [
        "y_train"
      ]
    },
    {
      "cell_type": "code",
      "execution_count": 53,
      "id": "d4aeb552-392b-4e51-a373-2f067d15b658",
      "metadata": {
        "tags": [],
        "id": "d4aeb552-392b-4e51-a373-2f067d15b658",
        "outputId": "4fef88ff-8205-4238-ee65-9312138cd97a",
        "colab": {
          "base_uri": "https://localhost:8080/"
        }
      },
      "outputs": [
        {
          "output_type": "stream",
          "name": "stdout",
          "text": [
            "{0, 1, 2}\n"
          ]
        }
      ],
      "source": [
        "print(set(y_train))"
      ]
    },
    {
      "cell_type": "code",
      "execution_count": 54,
      "id": "4681a2ba-8372-4196-b178-802b53cdc942",
      "metadata": {
        "tags": [],
        "id": "4681a2ba-8372-4196-b178-802b53cdc942"
      },
      "outputs": [],
      "source": [
        "from tensorflow.keras.utils import to_categorical\n",
        "y_train = to_categorical(y_train)\n",
        "y_test = to_categorical(y_test)\n",
        "y_val = to_categorical(y_val)\n"
      ]
    },
    {
      "cell_type": "code",
      "execution_count": 55,
      "id": "218012b4-1282-4a74-aa82-4bcc59f975e9",
      "metadata": {
        "tags": [],
        "id": "218012b4-1282-4a74-aa82-4bcc59f975e9",
        "outputId": "36e0db86-3a0e-4e04-e00f-2bffa80738b0",
        "colab": {
          "base_uri": "https://localhost:8080/"
        }
      },
      "outputs": [
        {
          "output_type": "stream",
          "name": "stdout",
          "text": [
            "[[0. 0. 1.]\n",
            " [1. 0. 0.]\n",
            " [1. 0. 0.]\n",
            " ...\n",
            " [0. 0. 1.]\n",
            " [0. 0. 1.]\n",
            " [0. 0. 1.]]\n"
          ]
        }
      ],
      "source": [
        "print(y_train)"
      ]
    },
    {
      "cell_type": "code",
      "execution_count": 56,
      "id": "e610dd85-0ea0-4f85-8382-f17872de1268",
      "metadata": {
        "tags": [],
        "id": "e610dd85-0ea0-4f85-8382-f17872de1268"
      },
      "outputs": [],
      "source": [
        "from tensorflow.keras.preprocessing.text import Tokenizer\n",
        "from tensorflow.keras.preprocessing.sequence import pad_sequences"
      ]
    },
    {
      "cell_type": "code",
      "execution_count": 57,
      "id": "4b0e74e6-425f-4766-aed7-4505db80b16a",
      "metadata": {
        "tags": [],
        "id": "4b0e74e6-425f-4766-aed7-4505db80b16a"
      },
      "outputs": [],
      "source": [
        "from tensorflow.keras.preprocessing.text import Tokenizer\n",
        "tokenizer = Tokenizer(oov_token='UNK')\n",
        "tokenizer.fit_on_texts(pd.concat([X_train, X_test], axis=0))"
      ]
    },
    {
      "cell_type": "code",
      "execution_count": 58,
      "id": "779fb9f8-602f-4570-9584-5b6faf1dcfed",
      "metadata": {
        "tags": [],
        "id": "779fb9f8-602f-4570-9584-5b6faf1dcfed",
        "outputId": "7a0bd570-5dcb-4e75-b6d2-c8fd39d38381",
        "colab": {
          "base_uri": "https://localhost:8080/"
        }
      },
      "outputs": [
        {
          "output_type": "execute_result",
          "data": {
            "text/plain": [
              "292424"
            ]
          },
          "metadata": {},
          "execution_count": 58
        }
      ],
      "source": [
        "tokenizer.document_count"
      ]
    },
    {
      "cell_type": "code",
      "execution_count": 59,
      "id": "9a47115c-6683-42a1-9fda-e5c3de56f459",
      "metadata": {
        "tags": [],
        "id": "9a47115c-6683-42a1-9fda-e5c3de56f459",
        "outputId": "86056819-143b-432b-80bc-4b06852211a7",
        "colab": {
          "base_uri": "https://localhost:8080/"
        }
      },
      "outputs": [
        {
          "output_type": "execute_result",
          "data": {
            "text/plain": [
              "648"
            ]
          },
          "metadata": {},
          "execution_count": 59
        }
      ],
      "source": [
        "tokenizer.word_index['towards']"
      ]
    },
    {
      "cell_type": "code",
      "execution_count": 60,
      "id": "9dbaf200-3e81-416a-aa90-35500f3f50a9",
      "metadata": {
        "collapsed": true,
        "jupyter": {
          "outputs_hidden": true
        },
        "tags": [],
        "id": "9dbaf200-3e81-416a-aa90-35500f3f50a9",
        "outputId": "7b287c91-9d0f-41ae-b727-601b3eb91ec5",
        "colab": {
          "base_uri": "https://localhost:8080/"
        }
      },
      "outputs": [
        {
          "output_type": "execute_result",
          "data": {
            "text/plain": [
              "[[47],\n",
              " [31],\n",
              " [684],\n",
              " [3361],\n",
              " [23996],\n",
              " [271],\n",
              " [348],\n",
              " [241],\n",
              " [3361],\n",
              " [4523],\n",
              " [14],\n",
              " [793],\n",
              " [381],\n",
              " [2314],\n",
              " [113],\n",
              " [616],\n",
              " [3768],\n",
              " [11],\n",
              " [77],\n",
              " [3969],\n",
              " [491],\n",
              " [378],\n",
              " [146],\n",
              " [14],\n",
              " [131],\n",
              " [125],\n",
              " [30],\n",
              " [831],\n",
              " [721],\n",
              " [675],\n",
              " [5562],\n",
              " [476],\n",
              " [10],\n",
              " [18],\n",
              " [11545],\n",
              " [11],\n",
              " [388],\n",
              " [111],\n",
              " [1298],\n",
              " [18],\n",
              " [699],\n",
              " [8517],\n",
              " [662],\n",
              " [102],\n",
              " [67],\n",
              " [29],\n",
              " [370],\n",
              " [6],\n",
              " [1234],\n",
              " [63],\n",
              " [355],\n",
              " [5137],\n",
              " [234],\n",
              " [181],\n",
              " [7522],\n",
              " [1194],\n",
              " [663],\n",
              " [370],\n",
              " [120],\n",
              " [653],\n",
              " [1088],\n",
              " [370],\n",
              " [1265],\n",
              " [104],\n",
              " [201],\n",
              " [111],\n",
              " [2632],\n",
              " [22396],\n",
              " [28],\n",
              " [5],\n",
              " [4],\n",
              " [528],\n",
              " [175],\n",
              " [111],\n",
              " [4],\n",
              " [188],\n",
              " [772],\n",
              " [480],\n",
              " [315],\n",
              " [772],\n",
              " [5563],\n",
              " [205],\n",
              " [1446],\n",
              " [1452],\n",
              " [4202],\n",
              " [104],\n",
              " [241],\n",
              " [323],\n",
              " [417],\n",
              " [21],\n",
              " [205],\n",
              " [5563],\n",
              " [537],\n",
              " [3496],\n",
              " [39],\n",
              " [480],\n",
              " [276],\n",
              " [16],\n",
              " [7],\n",
              " [5576],\n",
              " [1661],\n",
              " [8],\n",
              " [43],\n",
              " [17],\n",
              " [6],\n",
              " [57],\n",
              " [78],\n",
              " [433],\n",
              " [1067],\n",
              " [321],\n",
              " [8],\n",
              " [97],\n",
              " [244],\n",
              " [1151],\n",
              " [25],\n",
              " [37],\n",
              " [323],\n",
              " [945],\n",
              " [107],\n",
              " [2741],\n",
              " [1172],\n",
              " [118],\n",
              " [30],\n",
              " [95],\n",
              " [197],\n",
              " [311],\n",
              " [244],\n",
              " [14],\n",
              " [487],\n",
              " [6],\n",
              " [77],\n",
              " [161],\n",
              " [175],\n",
              " [14]]"
            ]
          },
          "metadata": {},
          "execution_count": 60
        }
      ],
      "source": [
        "tokenizer.texts_to_sequences(X_train[0].split())"
      ]
    },
    {
      "cell_type": "code",
      "execution_count": 61,
      "id": "ecbd34fb-dd59-4e22-b044-218ac80ee4d8",
      "metadata": {
        "tags": [],
        "id": "ecbd34fb-dd59-4e22-b044-218ac80ee4d8",
        "outputId": "099ffc40-b7f1-4a18-a8e9-0bcfb3963264",
        "colab": {
          "base_uri": "https://localhost:8080/"
        }
      },
      "outputs": [
        {
          "output_type": "execute_result",
          "data": {
            "text/plain": [
              "array([[0., 0., 0., ..., 0., 0., 0.],\n",
              "       [0., 0., 0., ..., 0., 0., 0.],\n",
              "       [0., 0., 0., ..., 0., 0., 0.],\n",
              "       ...,\n",
              "       [0., 0., 0., ..., 0., 0., 0.],\n",
              "       [0., 0., 0., ..., 0., 0., 0.],\n",
              "       [0., 0., 0., ..., 0., 0., 0.]])"
            ]
          },
          "metadata": {},
          "execution_count": 61
        }
      ],
      "source": [
        "tokenizer.texts_to_matrix(X_train[0].split())"
      ]
    },
    {
      "cell_type": "code",
      "execution_count": 62,
      "id": "0deb7f45-cc93-4f51-8f32-7d6144a95365",
      "metadata": {
        "tags": [],
        "id": "0deb7f45-cc93-4f51-8f32-7d6144a95365",
        "outputId": "6a20ae25-7f34-4b45-9181-53e76363c1bf",
        "colab": {
          "base_uri": "https://localhost:8080/"
        }
      },
      "outputs": [
        {
          "output_type": "execute_result",
          "data": {
            "text/plain": [
              "(134, 194252)"
            ]
          },
          "metadata": {},
          "execution_count": 62
        }
      ],
      "source": [
        "tokenizer.texts_to_matrix(X_train[0].split()).shape"
      ]
    },
    {
      "cell_type": "code",
      "execution_count": 63,
      "id": "1b30abd2-ffbc-4a21-b1bf-76688d4cfe77",
      "metadata": {
        "tags": [],
        "id": "1b30abd2-ffbc-4a21-b1bf-76688d4cfe77"
      },
      "outputs": [],
      "source": [
        "sequences_train = tokenizer.texts_to_sequences(X_train)\n",
        "sequences_test = tokenizer.texts_to_sequences(X_test)\n",
        "sequences_val = tokenizer.texts_to_sequences(X_val)"
      ]
    },
    {
      "cell_type": "code",
      "execution_count": 64,
      "id": "e1ee234d-d462-4e1c-a5fb-bac3a3f6c206",
      "metadata": {
        "tags": [],
        "id": "e1ee234d-d462-4e1c-a5fb-bac3a3f6c206",
        "outputId": "0183e92c-81a1-4d5e-a5e2-14f2c5248a5f",
        "colab": {
          "base_uri": "https://localhost:8080/"
        }
      },
      "outputs": [
        {
          "output_type": "execute_result",
          "data": {
            "text/plain": [
              "(69625, 2)"
            ]
          },
          "metadata": {},
          "execution_count": 64
        }
      ],
      "source": [
        "df_test.shape"
      ]
    },
    {
      "cell_type": "code",
      "execution_count": 65,
      "id": "f41ed2eb-e31c-4d23-a8f2-93aa639c8c31",
      "metadata": {
        "tags": [],
        "id": "f41ed2eb-e31c-4d23-a8f2-93aa639c8c31",
        "outputId": "cb279f50-37f2-42bd-e2c0-a2ee53ff78e8",
        "colab": {
          "base_uri": "https://localhost:8080/"
        }
      },
      "outputs": [
        {
          "output_type": "execute_result",
          "data": {
            "text/plain": [
              "91"
            ]
          },
          "metadata": {},
          "execution_count": 65
        }
      ],
      "source": [
        "round(sum([len(i.split()) for i in df_train['text']])/len(df_train['text']))\n"
      ]
    },
    {
      "cell_type": "code",
      "execution_count": 66,
      "id": "10e02aa9-69f6-40d2-9a7d-f652fa6fd88e",
      "metadata": {
        "tags": [],
        "id": "10e02aa9-69f6-40d2-9a7d-f652fa6fd88e",
        "outputId": "180787cd-e805-47b8-90c7-a9acd7b154c9",
        "colab": {
          "base_uri": "https://localhost:8080/"
        }
      },
      "outputs": [
        {
          "output_type": "stream",
          "name": "stdout",
          "text": [
            "Vocabulary size = 194252\n"
          ]
        }
      ],
      "source": [
        "X_train = pad_sequences(sequences_train, maxlen=250, truncating='pre')\n",
        "X_test = pad_sequences(sequences_test, maxlen=250, truncating='pre')\n",
        "X_val = pad_sequences(sequences_val, maxlen=250, truncating='pre')\n",
        "\n",
        "vocabSize = len(tokenizer.index_word) + 1\n",
        "print(f\"Vocabulary size = {vocabSize}\")"
      ]
    },
    {
      "cell_type": "code",
      "execution_count": 67,
      "id": "56d481b1-113c-464a-b921-d1f8852b9ac5",
      "metadata": {
        "tags": [],
        "id": "56d481b1-113c-464a-b921-d1f8852b9ac5",
        "outputId": "253e7018-6b0b-47ea-cb7a-a149f1e949d8",
        "colab": {
          "base_uri": "https://localhost:8080/"
        }
      },
      "outputs": [
        {
          "output_type": "execute_result",
          "data": {
            "text/plain": [
              "[47,\n",
              " 31,\n",
              " 684,\n",
              " 3361,\n",
              " 23996,\n",
              " 271,\n",
              " 348,\n",
              " 241,\n",
              " 3361,\n",
              " 4523,\n",
              " 14,\n",
              " 793,\n",
              " 381,\n",
              " 2314,\n",
              " 113,\n",
              " 616,\n",
              " 3768,\n",
              " 11,\n",
              " 77,\n",
              " 3969,\n",
              " 491,\n",
              " 378,\n",
              " 146,\n",
              " 14,\n",
              " 131,\n",
              " 125,\n",
              " 30,\n",
              " 831,\n",
              " 721,\n",
              " 675,\n",
              " 5562,\n",
              " 476,\n",
              " 10,\n",
              " 18,\n",
              " 11545,\n",
              " 11,\n",
              " 388,\n",
              " 111,\n",
              " 1298,\n",
              " 18,\n",
              " 699,\n",
              " 8517,\n",
              " 662,\n",
              " 102,\n",
              " 67,\n",
              " 29,\n",
              " 370,\n",
              " 6,\n",
              " 1234,\n",
              " 63,\n",
              " 355,\n",
              " 5137,\n",
              " 234,\n",
              " 181,\n",
              " 7522,\n",
              " 1194,\n",
              " 663,\n",
              " 370,\n",
              " 120,\n",
              " 653,\n",
              " 1088,\n",
              " 370,\n",
              " 1265,\n",
              " 104,\n",
              " 201,\n",
              " 111,\n",
              " 2632,\n",
              " 22396,\n",
              " 28,\n",
              " 5,\n",
              " 4,\n",
              " 528,\n",
              " 175,\n",
              " 111,\n",
              " 4,\n",
              " 188,\n",
              " 772,\n",
              " 480,\n",
              " 315,\n",
              " 772,\n",
              " 5563,\n",
              " 205,\n",
              " 1446,\n",
              " 1452,\n",
              " 4202,\n",
              " 104,\n",
              " 241,\n",
              " 323,\n",
              " 417,\n",
              " 21,\n",
              " 205,\n",
              " 5563,\n",
              " 537,\n",
              " 3496,\n",
              " 39,\n",
              " 480,\n",
              " 276,\n",
              " 16,\n",
              " 7,\n",
              " 5576,\n",
              " 1661,\n",
              " 8,\n",
              " 43,\n",
              " 17,\n",
              " 6,\n",
              " 57,\n",
              " 78,\n",
              " 433,\n",
              " 1067,\n",
              " 321,\n",
              " 8,\n",
              " 97,\n",
              " 244,\n",
              " 1151,\n",
              " 25,\n",
              " 37,\n",
              " 323,\n",
              " 945,\n",
              " 107,\n",
              " 2741,\n",
              " 1172,\n",
              " 118,\n",
              " 30,\n",
              " 95,\n",
              " 197,\n",
              " 311,\n",
              " 244,\n",
              " 14,\n",
              " 487,\n",
              " 6,\n",
              " 77,\n",
              " 161,\n",
              " 175,\n",
              " 14]"
            ]
          },
          "metadata": {},
          "execution_count": 67
        }
      ],
      "source": [
        "sequences_train[0]"
      ]
    },
    {
      "cell_type": "code",
      "execution_count": 68,
      "id": "a405b772-fd8d-4fb6-ba92-fa83f2442bfd",
      "metadata": {
        "tags": [],
        "id": "a405b772-fd8d-4fb6-ba92-fa83f2442bfd",
        "outputId": "f5ba7d6d-51ae-474c-9d1a-6b725b012f65",
        "colab": {
          "base_uri": "https://localhost:8080/"
        }
      },
      "outputs": [
        {
          "output_type": "execute_result",
          "data": {
            "text/plain": [
              "array([    0,     0,     0,     0,     0,     0,     0,     0,     0,\n",
              "           0,     0,     0,     0,     0,     0,     0,     0,     0,\n",
              "           0,     0,     0,     0,     0,     0,     0,     0,     0,\n",
              "           0,     0,     0,     0,     0,     0,     0,     0,     0,\n",
              "           0,     0,     0,     0,     0,     0,     0,     0,     0,\n",
              "           0,     0,     0,     0,     0,     0,     0,     0,     0,\n",
              "           0,     0,     0,     0,     0,     0,     0,     0,     0,\n",
              "           0,     0,     0,     0,     0,     0,     0,     0,     0,\n",
              "           0,     0,     0,     0,     0,     0,     0,     0,     0,\n",
              "           0,     0,     0,     0,     0,     0,     0,     0,     0,\n",
              "           0,     0,     0,     0,     0,     0,     0,     0,     0,\n",
              "           0,     0,     0,     0,     0,     0,     0,     0,     0,\n",
              "           0,     0,     0,     0,     0,     0,     0,     0,    47,\n",
              "          31,   684,  3361, 23996,   271,   348,   241,  3361,  4523,\n",
              "          14,   793,   381,  2314,   113,   616,  3768,    11,    77,\n",
              "        3969,   491,   378,   146,    14,   131,   125,    30,   831,\n",
              "         721,   675,  5562,   476,    10,    18, 11545,    11,   388,\n",
              "         111,  1298,    18,   699,  8517,   662,   102,    67,    29,\n",
              "         370,     6,  1234,    63,   355,  5137,   234,   181,  7522,\n",
              "        1194,   663,   370,   120,   653,  1088,   370,  1265,   104,\n",
              "         201,   111,  2632, 22396,    28,     5,     4,   528,   175,\n",
              "         111,     4,   188,   772,   480,   315,   772,  5563,   205,\n",
              "        1446,  1452,  4202,   104,   241,   323,   417,    21,   205,\n",
              "        5563,   537,  3496,    39,   480,   276,    16,     7,  5576,\n",
              "        1661,     8,    43,    17,     6,    57,    78,   433,  1067,\n",
              "         321,     8,    97,   244,  1151,    25,    37,   323,   945,\n",
              "         107,  2741,  1172,   118,    30,    95,   197,   311,   244,\n",
              "          14,   487,     6,    77,   161,   175,    14], dtype=int32)"
            ]
          },
          "metadata": {},
          "execution_count": 68
        }
      ],
      "source": [
        "X_train[0]\n"
      ]
    },
    {
      "cell_type": "code",
      "execution_count": 73,
      "id": "59065ea5-fba0-4ea2-b04e-f696630f9ab0",
      "metadata": {
        "tags": [],
        "id": "59065ea5-fba0-4ea2-b04e-f696630f9ab0",
        "outputId": "dea44065-01e1-48b1-cfe4-d75c5407c366",
        "colab": {
          "base_uri": "https://localhost:8080/"
        }
      },
      "outputs": [
        {
          "output_type": "stream",
          "name": "stdout",
          "text": [
            "Model: \"sequential_1\"\n",
            "_________________________________________________________________\n",
            " Layer (type)                Output Shape              Param #   \n",
            "=================================================================\n",
            " embedding_1 (Embedding)     (None, 250, 200)          38840000  \n",
            "                                                                 \n",
            " bidirectional_3 (Bidirectio  (None, 250, 128)         135680    \n",
            " nal)                                                            \n",
            "                                                                 \n",
            " bidirectional_4 (Bidirectio  (None, 250, 64)          41216     \n",
            " nal)                                                            \n",
            "                                                                 \n",
            " bidirectional_5 (Bidirectio  (None, 64)               24832     \n",
            " nal)                                                            \n",
            "                                                                 \n",
            " dense_1 (Dense)             (None, 3)                 195       \n",
            "                                                                 \n",
            "=================================================================\n",
            "Total params: 39,041,923\n",
            "Trainable params: 201,923\n",
            "Non-trainable params: 38,840,000\n",
            "_________________________________________________________________\n"
          ]
        }
      ],
      "source": [
        "from tensorflow.keras.optimizers import Adam\n",
        "from tensorflow.keras import Sequential\n",
        "from tensorflow.keras.layers import Dense, LSTM, Bidirectional ,Embedding\n",
        "adam = Adam(learning_rate=0.005)\n",
        "\n",
        "model = Sequential()\n",
        "model.add(Embedding(input_dim=194200, # max_vocb\n",
        "                             output_dim=200,\n",
        "                             embeddings_initializer=\"uniform\",\n",
        "                             input_length=250, #max _len\n",
        "                             name=\"embedding_1\",trainable=False))\n",
        "model.add(Bidirectional(LSTM(64, dropout=0.2,recurrent_dropout=0.2, return_sequences=True)))\n",
        "model.add(Bidirectional(LSTM(32, dropout=0.2,recurrent_dropout=0.2, return_sequences=True)))\n",
        "model.add(Bidirectional(LSTM(32, dropout=0.2,recurrent_dropout=0.2)))\n",
        "model.add(Dense(3, activation='softmax'))\n",
        "\n",
        "model.compile(loss='categorical_crossentropy', optimizer=adam, metrics=['accuracy'])\n",
        "model.summary()"
      ]
    },
    {
      "cell_type": "code",
      "execution_count": 74,
      "id": "18882c2d-74dd-4257-8283-1e0e2582f94f",
      "metadata": {
        "id": "18882c2d-74dd-4257-8283-1e0e2582f94f",
        "outputId": "dc6f32c7-65c5-416e-d174-f598389194eb",
        "colab": {
          "base_uri": "https://localhost:8080/",
          "height": 644
        }
      },
      "outputs": [
        {
          "output_type": "execute_result",
          "data": {
            "image/png": "[encoded data removed]",
            "text/plain": [
              "<IPython.core.display.Image object>"
            ]
          },
          "metadata": {},
          "execution_count": 74
        }
      ],
      "source": [
        "from tensorflow.keras.utils import plot_model\n",
        "import pydot\n",
        "plot_model(model, show_shapes=True)"
      ]
    },
    {
      "cell_type": "code",
      "execution_count": 76,
      "id": "1aeacee1-a7f7-46db-b968-3a850fb21042",
      "metadata": {
        "tags": [],
        "id": "1aeacee1-a7f7-46db-b968-3a850fb21042"
      },
      "outputs": [],
      "source": [
        "from tensorflow.keras.callbacks import EarlyStopping\n",
        "callback = EarlyStopping(\n",
        "    monitor=\"val_loss\",\n",
        "    patience=2,\n",
        "    restore_best_weights=True,\n",
        ")"
      ]
    },
    {
      "cell_type": "code",
      "execution_count": 77,
      "id": "1c403771-cc81-45e5-9357-2e600891f20c",
      "metadata": {
        "id": "1c403771-cc81-45e5-9357-2e600891f20c",
        "colab": {
          "base_uri": "https://localhost:8080/"
        },
        "outputId": "fa9d1cb6-afde-4d89-8df4-5227fff0f75c"
      },
      "outputs": [
        {
          "output_type": "stream",
          "name": "stdout",
          "text": [
            "Epoch 1/5\n",
            "871/871 [==============================] - 4413s 5s/step - loss: 0.7578 - accuracy: 0.6553 - val_loss: 0.6307 - val_accuracy: 0.7265\n",
            "Epoch 2/5\n",
            "871/871 [==============================] - 4386s 5s/step - loss: 0.6232 - accuracy: 0.7365 - val_loss: 0.5569 - val_accuracy: 0.7677\n",
            "Epoch 3/5\n",
            "871/871 [==============================] - 4364s 5s/step - loss: 0.5448 - accuracy: 0.7721 - val_loss: 0.5182 - val_accuracy: 0.7838\n",
            "Epoch 4/5\n",
            "871/871 [==============================] - 4368s 5s/step - loss: 0.5083 - accuracy: 0.7878 - val_loss: 0.4876 - val_accuracy: 0.7973\n",
            "Epoch 5/5\n",
            "871/871 [==============================] - 4275s 5s/step - loss: 0.4869 - accuracy: 0.7967 - val_loss: 0.4818 - val_accuracy: 0.8003\n"
          ]
        }
      ],
      "source": [
        "history = model.fit(X_train,\n",
        "                    y_train,\n",
        "                    validation_data=(X_val, y_val),\n",
        "                    verbose=1,\n",
        "                    batch_size=256,\n",
        "                    epochs=5,\n",
        "                    callbacks=[callback]\n",
        "                   )"
      ]
    },
    {
      "cell_type": "code",
      "source": [
        "model.save('Suicide_detection_model(V1).h5')"
      ],
      "metadata": {
        "id": "tOfDq5WcBnFC"
      },
      "id": "tOfDq5WcBnFC",
      "execution_count": 79,
      "outputs": []
    },
    {
      "cell_type": "code",
      "source": [
        "def detect(sentence):\n",
        "  print(sentence)\n",
        "  sentence = normalized_sentence(sentence)\n",
        "  sentence = tokenizer.texts_to_sequences([sentence])\n",
        "  sentence = pad_sequences(sentence, maxlen=250, truncating='pre')\n",
        "  result = le.inverse_transform(np.argmax(model.predict(sentence), axis=-1))[0]\n",
        "  proba =  np.max(model.predict(sentence))\n",
        "\n",
        "  return(f\"{result} : {proba}\\n\\n\")\n"
      ],
      "metadata": {
        "id": "MzmKO4VYCFFP"
      },
      "id": "MzmKO4VYCFFP",
      "execution_count": 82,
      "outputs": []
    },
    {
      "cell_type": "code",
      "source": [
        "detect('i want to  kill myself')"
      ],
      "metadata": {
        "colab": {
          "base_uri": "https://localhost:8080/",
          "height": 87
        },
        "id": "NXTfhpv7CVEv",
        "outputId": "2c71818f-ac17-4ec9-ad17-dbabbabca173"
      },
      "id": "NXTfhpv7CVEv",
      "execution_count": 83,
      "outputs": [
        {
          "output_type": "stream",
          "name": "stdout",
          "text": [
            "i want to  kill myself\n",
            "1/1 [==============================] - 1s 1s/step\n",
            "1/1 [==============================] - 0s 83ms/step\n"
          ]
        },
        {
          "output_type": "execute_result",
          "data": {
            "text/plain": [
              "'suicide : 0.8506962656974792\\n\\n'"
            ],
            "application/vnd.google.colaboratory.intrinsic+json": {
              "type": "string"
            }
          },
          "metadata": {},
          "execution_count": 83
        }
      ]
    },
    {
      "cell_type": "code",
      "source": [
        "detect(\"what a lovely day\")"
      ],
      "metadata": {
        "colab": {
          "base_uri": "https://localhost:8080/",
          "height": 87
        },
        "id": "pQUcS7ndClRm",
        "outputId": "d2bef587-8c5b-4976-fa00-68b0fb9455c2"
      },
      "id": "pQUcS7ndClRm",
      "execution_count": 84,
      "outputs": [
        {
          "output_type": "stream",
          "name": "stdout",
          "text": [
            "what a lovely day\n",
            "1/1 [==============================] - 0s 84ms/step\n",
            "1/1 [==============================] - 0s 81ms/step\n"
          ]
        },
        {
          "output_type": "execute_result",
          "data": {
            "text/plain": [
              "'non-suicide : 0.8146605491638184\\n\\n'"
            ],
            "application/vnd.google.colaboratory.intrinsic+json": {
              "type": "string"
            }
          },
          "metadata": {},
          "execution_count": 84
        }
      ]
    },
    {
      "cell_type": "code",
      "source": [
        "detect(\"man im so done!\")"
      ],
      "metadata": {
        "colab": {
          "base_uri": "https://localhost:8080/",
          "height": 87
        },
        "id": "gTuERttVCryC",
        "outputId": "015ae9a2-bf48-48e0-ceeb-2bee81c8e41c"
      },
      "id": "gTuERttVCryC",
      "execution_count": 85,
      "outputs": [
        {
          "output_type": "stream",
          "name": "stdout",
          "text": [
            "man im so done!\n",
            "1/1 [==============================] - 0s 84ms/step\n",
            "1/1 [==============================] - 0s 86ms/step\n"
          ]
        },
        {
          "output_type": "execute_result",
          "data": {
            "text/plain": [
              "'non-suicide : 0.6326689124107361\\n\\n'"
            ],
            "application/vnd.google.colaboratory.intrinsic+json": {
              "type": "string"
            }
          },
          "metadata": {},
          "execution_count": 85
        }
      ]
    },
    {
      "cell_type": "code",
      "source": [
        "detect(\"evrything is hopeless.but i dont want to die\")"
      ],
      "metadata": {
        "colab": {
          "base_uri": "https://localhost:8080/",
          "height": 87
        },
        "id": "HkpPTnYACyaS",
        "outputId": "ed98f0c0-65b7-4a4d-8335-bb7580605101"
      },
      "id": "HkpPTnYACyaS",
      "execution_count": 88,
      "outputs": [
        {
          "output_type": "stream",
          "name": "stdout",
          "text": [
            "evrything is hopeless.but i dont want to die\n",
            "1/1 [==============================] - 0s 81ms/step\n",
            "1/1 [==============================] - 0s 83ms/step\n"
          ]
        },
        {
          "output_type": "execute_result",
          "data": {
            "text/plain": [
              "'suicide : 0.5929161310195923\\n\\n'"
            ],
            "application/vnd.google.colaboratory.intrinsic+json": {
              "type": "string"
            }
          },
          "metadata": {},
          "execution_count": 88
        }
      ]
    }
  ],
  "metadata": {
    "kernelspec": {
      "display_name": "Python 3 (ipykernel)",
      "language": "python",
      "name": "python3"
    },
    "language_info": {
      "codemirror_mode": {
        "name": "ipython",
        "version": 3
      },
      "file_extension": ".py",
      "mimetype": "text/x-python",
      "name": "python",
      "nbconvert_exporter": "python",
      "pygments_lexer": "ipython3",
      "version": "3.9.17"
    },
    "colab": {
      "provenance": []
    }
  },
  "nbformat": 4,
  "nbformat_minor": 5
}